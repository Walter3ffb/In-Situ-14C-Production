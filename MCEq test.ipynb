{
 "cells": [
  {
   "cell_type": "code",
   "execution_count": 1,
   "id": "3787a6d5",
   "metadata": {},
   "outputs": [],
   "source": [
    "#basic imports and ipython setup\n",
    "import matplotlib.pyplot as plt\n",
    "import numpy as np\n",
    "\n",
    "from MCEq.core import MCEqRun\n",
    "import crflux.models as crf\n",
    "import mceq_config as config\n",
    "import crflux.models as pm\n",
    "\n",
    "from tqdm import tqdm\n",
    "\n",
    "from scipy.sparse import identity\n",
    "from scipy.sparse import find\n",
    "\n",
    "from scipy.linalg import expm\n",
    "\n",
    "from functools import reduce\n",
    "\n",
    "from time import time\n",
    "\n",
    "import pandas as pd\n",
    "from MCEq.geometry.density_profiles import GeneralizedTarget\n",
    "\n",
    "import matplotlib as mpl\n",
    "from cycler import cycler"
   ]
  },
  {
   "cell_type": "code",
   "execution_count": 2,
   "id": "6159b072",
   "metadata": {},
   "outputs": [],
   "source": [
    "colors = mpl.cm.viridis(np.linspace(0., 1., 5))\n",
    "\n",
    "axes_style = { 'grid'      : 'True',\n",
    "               'labelsize' : '14',\n",
    "               'labelpad'  : '8.0',\n",
    "               'prop_cycle': cycler('color', colors) }\n",
    "grid_style = { 'alpha'     : '0.75',\n",
    "               'linestyle' : ':' }\n",
    "font_style = { 'size'      : '14' }\n",
    "\n",
    "mpl.rc('font', **font_style)\n",
    "mpl.rc('axes', **axes_style)\n",
    "mpl.rc('grid', **grid_style)"
   ]
  },
  {
   "cell_type": "code",
   "execution_count": 3,
   "id": "33855da6",
   "metadata": {},
   "outputs": [],
   "source": [
    "# dX = config.stability_margin / (mceq.matrix_builder.max_ldec * rho(X))"
   ]
  },
  {
   "cell_type": "code",
   "execution_count": 4,
   "id": "64f80b63",
   "metadata": {},
   "outputs": [],
   "source": [
    "# particles to include:\n",
    "# mu : +/- 13\n",
    "# pi0 : 111\n",
    "# K_L0 : 130\n",
    "# pi : +/- 211\n",
    "# K_S0 : 310\n",
    "# K : +/- 321\n",
    "# D : +/- 411\n",
    "# D0 : +/- 421\n",
    "# D_s : +/- 431\n",
    "# n0 : +/- 2122\n",
    "# p : +/- 2212\n",
    "# Lambda0 : +/- 3122"
   ]
  },
  {
   "cell_type": "code",
   "execution_count": 5,
   "id": "2edd03f8",
   "metadata": {},
   "outputs": [],
   "source": [
    "def surface_flux(cosTH, primary_model = (pm.GlobalSplineFitBeta, None), interaction_model = 'DPMJETIII191', density_model = ('CORSIKA',('SouthPole', 'December')), elev = 3120, sol=True, use_tqdm=False):\n",
    "    import mceq_config as config\n",
    "    \n",
    "    config.debug_level = 0\n",
    "    \n",
    "    # Generic settings\n",
    "    ## config.max_density = 1.\n",
    "    config.h_obs = elev # elevation in (m) of Dome-C\n",
    "    \n",
    "    #config.hybrid_crossover = 0.3\n",
    "    config.enable_default_tracking = False\n",
    "    #config.adv_set[\"allowed_projectiles\"] = [13, 111, 130, 211, 310, 321, 411, 421, 431, 2122, 2212, 3122]\n",
    "    #config.adv_set[\"exclude_from_mixing\"] = [13, 211, 321 ]#,2112, 3122\n",
    "    #config.adv_set[\"force_resonance\"] = [421, 411, 431, 111,310]\n",
    "    ## config.adv_set[\"disabled_particles\"] = [111]\n",
    "    #config.e_min = 1e-3 # This is the lowest stable limit 60 MeV\n",
    "    #config.e_max = 1e9\n",
    "    #config.e_min = 1\n",
    "    #config.e_max = 1e9\n",
    "    #config.dXmax = 1.\n",
    "    #config.leading_process = 'auto'\n",
    "    #config.enable_energy_loss = True\n",
    "    #config.average_loss_operator = True\n",
    "    #config.loss_step_for_average = 1e-5\n",
    "    #config.generic_losses_all_charged = True\n",
    "    #config.enable_em_ion = True\n",
    "    #config.enable_cont_rad_loss = False\n",
    "    ##config.enable_em = True\n",
    "    #config.excpt_on_missing_particle = True\n",
    "    #config.muon_helicity_dependence = True\n",
    "    ##: File name of the MCEq database\n",
    "    #config.em_db_fname = \"mceq_db_EM_Tsai_Max_v131.h5\"\n",
    "    #config.mceq_db_fname = 'mceq_db_lext_dpm191_v131_VM.h5'\n",
    "    #density_model = ('CORSIKA',('SouthPole', 'December'))\n",
    "    #density_model = ('CORSIKA', ('USStd', None))\n",
    "    \n",
    "    config.max_density = 0.001225\n",
    "    config.dedx_material = 'air'\n",
    "\n",
    "    mceq = MCEqRun(\n",
    "        interaction_model=interaction_model,\n",
    "        theta_deg = 180*np.arccos(cosTH)/np.pi,\n",
    "        density_model = density_model,\n",
    "        #medium=medium,\n",
    "        primary_model = primary_model,\n",
    "    )\n",
    "    \n",
    "    if sol:\n",
    "        #mceq.solve()\n",
    "        \n",
    "        solve_mceq(mceq, use_tqdm=use_tqdm)\n",
    "    \n",
    "    return mceq"
   ]
  },
  {
   "cell_type": "code",
   "execution_count": 6,
   "id": "9438f561",
   "metadata": {},
   "outputs": [],
   "source": [
    "def depth_flux(flux, z, h, cosTH, rho=None, interaction_model = 'DPMJETIII191', sol=True, use_tqdm=False):\n",
    "    #print('Calculating flux through ice at {:.1f} degrees'.format(180*np.arccos(cosTH)/np.pi))\n",
    "    \n",
    "    import mceq_config as config\n",
    "    \n",
    "    # Generic settings\n",
    "    ## config.max_density = 1.\n",
    "    #config.hybrid_crossover = 0.3\n",
    "    config.enable_default_tracking = False\n",
    "    #config.adv_set[\"exclude_from_mixing\"] = [13, 211, 321 ]#,2112, 3122\n",
    "    #config.adv_set[\"force_resonance\"] = [421, 411, 431, 111,310]\n",
    "    ## config.adv_set[\"disabled_particles\"] = [111]\n",
    "    #config.e_min = 1e-3 # This is the lowest stable limit 60 MeV\n",
    "    #config.e_max = 1e9\n",
    "    #config.e_min = 1\n",
    "    #config.e_max = 1e9\n",
    "    config.debug_level = 0 #2\n",
    "    #config.dXmax = 1.\n",
    "    #config.leading_process = 'auto'\n",
    "    #config.enable_energy_loss = True\n",
    "    #config.average_loss_operator = True\n",
    "    #config.loss_step_for_average = 1e-5\n",
    "    #config.generic_losses_all_charged = True\n",
    "    #config.enable_em_ion = True\n",
    "    #config.enable_cont_rad_loss = False\n",
    "    #config.enable_em = True\n",
    "    #config.excpt_on_missing_particle = True\n",
    "    #config.muon_helicity_dependence = True\n",
    "    ##: File name of the MCEq database\n",
    "    #config.em_db_fname = \"mceq_db_EM_Tsai_Max_v131.h5\"\n",
    "    #config.mceq_db_fname = 'mceq_db_lext_dpm191_v131_VM.h5'\n",
    "    primary_model = (pm.GlobalSplineFitBeta, None)\n",
    "    \n",
    "    #medium = 'water'\n",
    "    #density = 1.\n",
    "    medium = 'ice'\n",
    "    if rho is None:\n",
    "        density = 0.9239\n",
    "        ## medium = 'iron'\n",
    "        ## density = 7.864\n",
    "        target = GeneralizedTarget(len_target=h[-1]*100/cosTH/density) # 1km\n",
    "        target.add_material(0.,density,medium)\n",
    "    else:\n",
    "        target = GeneralizedTarget(len_target=z[-1]*100/cosTH, env_density = rho_ice, env_name = 'ice')\n",
    "        target.mat_list = [[z[i]*100/cosTH, z[i+1]*100/cosTH, rho[i], 'ice'] for i in range(len(z)-1)]\n",
    "        target._update_variables()\n",
    "    ## config.A_target = 18/3.\n",
    "    config.max_density = 0.9239\n",
    "    config.dedx_material = 'ice'\n",
    "\n",
    "    mceq = MCEqRun(\n",
    "        interaction_model = interaction_model,\n",
    "        theta_deg = 0,\n",
    "        density_model = target,\n",
    "        medium=medium,\n",
    "        primary_model = primary_model,\n",
    "    )\n",
    "\n",
    "    mceq._phi0 = flux\n",
    "    \n",
    "    if sol:\n",
    "        #mceq.solve()\n",
    "        #mceq.solve(int_grid=h/cosTH*100)\n",
    "        \n",
    "        solve_mceq(mceq, int_grid=h/cosTH*100, use_tqdm=use_tqdm)\n",
    "    \n",
    "    return mceq"
   ]
  },
  {
   "cell_type": "code",
   "execution_count": 7,
   "id": "b300621e",
   "metadata": {},
   "outputs": [],
   "source": [
    "def solve_mceq(mceq, int_grid=None, grid_var='X', use_tqdm=False):\n",
    "    mceq._calculate_integration_path(int_grid=int_grid, grid_var=grid_var)\n",
    "\n",
    "    nsteps, dX, rho_inv, grid_idcs = mceq.integration_path\n",
    "    int_m = mceq.int_m\n",
    "    dec_m = mceq.dec_m\n",
    "\n",
    "    dXaccum = 0.\n",
    "    grid_sol = np.zeros((len(grid_idcs), *np.shape(mceq._phi0)))\n",
    "    grid_step = 0\n",
    "\n",
    "    phc = np.copy(mceq._phi0)\n",
    "    \n",
    "    for step in (tqdm(range(nsteps)) if use_tqdm else range(nsteps)):\n",
    "        phc += (int_m.dot(phc) + dec_m.dot(rho_inv[step] * phc)) * dX[step]\n",
    "        phc[phc<1e-250] = 0.\n",
    "\n",
    "        if (grid_idcs and grid_step < len(grid_idcs)\n",
    "                and grid_idcs[grid_step] == step):\n",
    "            grid_sol[grid_step] = np.copy(phc)\n",
    "            grid_step += 1\n",
    "\n",
    "    mceq._solution, mceq.grid_sol = phc, grid_sol\n",
    "    \n",
    "    return"
   ]
  },
  {
   "cell_type": "code",
   "execution_count": 8,
   "id": "7e88ee1b",
   "metadata": {},
   "outputs": [],
   "source": [
    "def flux_matrix_one_ang(i_range, z, h, cosTH, rho=None, interaction_model = 'DPMJETIII191', elev = 3120):\n",
    "    print('Calculating muon flux response at {:.1f} degrees'.format(180*np.arccos(cosTH)/np.pi))\n",
    "    \n",
    "    mceq = surface_flux(cosTH, interaction_model=interaction_model, elev=elev, sol=False)\n",
    "    \n",
    "    phi0 = np.zeros((len(mceq._phi0), len(i_range)))\n",
    "    phi0[i_range,np.arange(len(i_range))] = 1.\n",
    "    #phi0[i_range] = np.identity(len(i_range))\n",
    "    \n",
    "    mceq._phi0 = phi0\n",
    "    solve_mceq(mceq, use_tqdm=True)\n",
    "    \n",
    "    print('Propagating through ice...')\n",
    "    \n",
    "    mceq_fin = depth_flux(mceq._solution, z, h, cosTH, rho, interaction_model = interaction_model, use_tqdm=True)\n",
    "    \n",
    "    print('Retrieving Muon Flux...')\n",
    "    \n",
    "    phi_sum = mceq_fin.grid_sol[:,4*121:5*121] + mceq_fin.grid_sol[:,5*121:6*121] + mceq_fin.grid_sol[:,6*121:7*121] + mceq_fin.grid_sol[:,7*121:8*121] + mceq_fin.grid_sol[:,8*121:9*121] + mceq_fin.grid_sol[:,9*121:10*121]\n",
    "    phi_int = phi_sum * mceq_fin._energy_grid.w.reshape((1,-1,1))\n",
    "\n",
    "    return mceq_fin._energy_grid.c, phi_int\n",
    "    # axis0 : depth\n",
    "    # axis1 : muon energy\n",
    "    # axis2 : CR particle & energy"
   ]
  },
  {
   "cell_type": "code",
   "execution_count": 9,
   "id": "dcd4ce9d",
   "metadata": {},
   "outputs": [],
   "source": [
    "def flux_matrix_all(i_range, z, h, cosTH, dcosTH, rho=None, interaction_model = 'DPMJETIII191', elev = 3120):\n",
    "    \n",
    "    \n",
    "    E_grid, phi_mu_tot = flux_matrix_one_ang(i_range, z, h, cosTH[0], rho, interaction_model = interaction_model, elev = elev)\n",
    "    phi_mu_tot *= dcosTH\n",
    "    for i in range(1,len(cosTH)):\n",
    "        phi_mu_tot += flux_matrix_one_ang(i_range, z, h, cosTH[i], rho, interaction_model = interaction_model, elev = elev)[1] * dcosTH\n",
    "\n",
    "    return E_grid, 2*np.pi*phi_mu_tot"
   ]
  },
  {
   "cell_type": "code",
   "execution_count": 10,
   "id": "3b6eac38",
   "metadata": {},
   "outputs": [],
   "source": [
    "def plot_surface_spectrum(mceqs, title='Muon Surface Spectrum'):\n",
    "    p_surf = np.array([m.get_solution('mu-', integrate=True)+m.get_solution('mu+', integrate=True) for m in mceqs])\n",
    "    X = p_surf[:,:30]\n",
    "\n",
    "    fig, ax = plt.subplots(1,1, figsize=(6,5), tight_layout=True)\n",
    "    ax.imshow(X, extent=[np.log10(mceqs[0]._energy_grid.b[0]), np.log10(mceqs[0]._energy_grid.b[30]), 1, 0], origin='upper', aspect='auto')\n",
    "    ax.set(xlabel='log10 Energy [GeV]',\n",
    "           #yscale='log',\n",
    "           ylabel='cos theta')\n",
    "    plt.title(title)\n",
    "    plt.show()\n",
    "    \n",
    "    return X"
   ]
  },
  {
   "cell_type": "code",
   "execution_count": 11,
   "id": "ad6d668b",
   "metadata": {},
   "outputs": [],
   "source": [
    "def SDC(E0, cosTH):\n",
    "    # Smith & Duller / Chatzidakis\n",
    "    \n",
    "    A = 0.002382 # fitting parameter\n",
    "    r = 0.76 # Ratio of muon energy to pion energy\n",
    "    a = 2.500e-3 # Muon rate of energy loss in air (GeV / (g/cm^2))\n",
    "    y0 = 1000 # Atmosphere depth at sea level (g/cm^2)\n",
    "    gamma = 8/3 # fitting parameter\n",
    "    b_mu = 0.800 # Correction factor related to atmospheric temperature\n",
    "    m_mu = 105.659e-3 # Rest mass of muon (GeV/c^2)\n",
    "    tau_mu0 = 2.2e-6 # Mean lifetime of muon at rest (s)\n",
    "    rho0 = 0.00123 # Density of atmosphere at sea level (g/cm^3)\n",
    "    c = 3e10 # speed of light (cm/s)\n",
    "    lambda_pi = 120 # Absorption mean free path of pions (g/cm^2)\n",
    "    b = 0.771 # coefficient to modify the isothermal atmosphere approximation\n",
    "    tau0 = 2.61e-8 # Mean lifetime of pion at rest (s)\n",
    "    m_pi = 139.580e-3 # Rest mass of pion (GeV/c^2)\n",
    "    j_pi = 148.16 # m_pi * y0 * c / (tau0 * rho0) GeV\n",
    "    \n",
    "    # energy of pion that produced muon\n",
    "    E_pi = (E0 + a*y0*(1/cosTH - 0.100))/r\n",
    "    \n",
    "    B_mu = b_mu * m_mu * y0 / (c * tau_mu0 * rho0)\n",
    "    \n",
    "    # Probability for muons to reach sea level\n",
    "    P_mu = (0.100 * cosTH * (1-a*(y0/cosTH - 100)/(r * E_pi)))**(B_mu / ((r*E_pi + 100*a)*cosTH))\n",
    "    \n",
    "    Phi_S = A * E_pi**(-gamma) * P_mu * lambda_pi * b * j_pi/(E_pi* cosTH + b * j_pi)\n",
    "    \n",
    "    return Phi_S"
   ]
  },
  {
   "cell_type": "code",
   "execution_count": 12,
   "id": "73a91023",
   "metadata": {},
   "outputs": [],
   "source": [
    "def mu_sources(mceq):\n",
    "    int_m = mceq.int_m\n",
    "    dec_m = mceq.dec_m\n",
    "    \n",
    "    row0, col0, val0 = find(int_m)\n",
    "    row1, col1, val1 = find(dec_m)\n",
    "    row, col = np.append(row0,row1), np.append(col0,col1)\n",
    "    \n",
    "    mu_ind = np.arange(mceq.pman.pname2pref['mu+_l'].lidx, mceq.pman.pname2pref['mu-_r'].uidx)\n",
    "    \n",
    "    s = np.copy(mu_ind)\n",
    "    \n",
    "    i = 0\n",
    "    while len(s) != len(np.unique(col[np.isin(row, s).nonzero()[0]])) and i<100:\n",
    "        s = np.unique(col[np.isin(row, s).nonzero()[0]])\n",
    "        i+=1\n",
    "        \n",
    "    if i>=100:\n",
    "        print('failed to converge')\n",
    "    \n",
    "    return s"
   ]
  },
  {
   "cell_type": "code",
   "execution_count": 13,
   "id": "f382741d",
   "metadata": {},
   "outputs": [],
   "source": [
    "def particle_products(pname, mceq):\n",
    "    int_m = mceq.int_m\n",
    "    dec_m = mceq.dec_m\n",
    "    \n",
    "    row0, col0, val0 = find(int_m)\n",
    "    row1, col1, val1 = find(dec_m)\n",
    "    row, col = np.append(row0,row1), np.append(col0,col1)\n",
    "    \n",
    "    s = np.arange(mceq.pman.pname2pref[pname].lidx, mceq.pman.pname2pref[pname].uidx)\n",
    "    \n",
    "    i = 0\n",
    "    while len(s) != len(np.unique(row[np.isin(col, s).nonzero()[0]])) and i<100:\n",
    "        s = np.unique(row[np.isin(col, s).nonzero()[0]])\n",
    "        i+=1\n",
    "        \n",
    "    if i>=100:\n",
    "        print('failed to converge')\n",
    "    \n",
    "    return s"
   ]
  },
  {
   "cell_type": "code",
   "execution_count": 14,
   "id": "fb1408c8",
   "metadata": {},
   "outputs": [],
   "source": [
    "def i_to_pname(i, mceq):\n",
    "    return np.array(list(mceq.pman.pname2pref.keys()))[np.unique(i//len(mceq._energy_grid.c))]"
   ]
  },
  {
   "cell_type": "code",
   "execution_count": 15,
   "id": "dd19f4b4",
   "metadata": {},
   "outputs": [],
   "source": [
    "age_scale_file = 'DomeC_age_scale_Apr2023.csv'\n",
    "ice_eq_depth_file = 'Real_vs_ice_eq_depth.csv'\n",
    "\n",
    "age_scale = pd.read_csv(age_scale_file)\n",
    "ages = np.array(age_scale['ages']) # years\n",
    "depths_real = np.array(age_scale['depths_real']) # meters\n",
    "\n",
    "ice_eq_depth = pd.read_csv(ice_eq_depth_file)\n",
    "real_z = ice_eq_depth['z'] # meters\n",
    "ice_eq_z = ice_eq_depth['ice_eq_z'] # meters (ice-eq)"
   ]
  },
  {
   "cell_type": "code",
   "execution_count": 16,
   "id": "b8c4b0ba",
   "metadata": {},
   "outputs": [],
   "source": [
    "def z_to_t(z): # convert real depth to age\n",
    "    return np.interp(z, depths_real, ages)\n",
    "\n",
    "def t_to_z(t): # convert age to real depth\n",
    "    return np.interp(t, ages, depths_real)\n",
    "\n",
    "def z_to_h(z): # convert real depth to mass depth\n",
    "    return np.interp(z, real_z, ice_eq_z)*rho_ice\n",
    "\n",
    "def h_to_z(h): # convert mass depth to real depth\n",
    "    return np.interp(h/rho_ice, ice_eq_z, real_z)\n",
    "\n",
    "def h_to_t(h): # convert mass depth to age\n",
    "    return z_to_t(h_to_z(h/rho_ice))\n",
    "\n",
    "def t_to_h(t): # convert age to mass depth\n",
    "    return z_to_h(t_to_z(t))*rho_ice"
   ]
  },
  {
   "cell_type": "code",
   "execution_count": 17,
   "id": "86a3a66e",
   "metadata": {},
   "outputs": [
    {
     "data": {
      "text/plain": [
       "Text(0.5, 1.0, 'Ice Depth by Relative Age')"
      ]
     },
     "execution_count": 17,
     "metadata": {},
     "output_type": "execute_result"
    },
    {
     "data": {
      "image/png": "[encoded data removed]",
      "text/plain": [
       "<Figure size 432x360 with 1 Axes>"
      ]
     },
     "metadata": {
      "needs_background": "light"
     },
     "output_type": "display_data"
    }
   ],
   "source": [
    "z_start = 0 # 96.5 # starting real depth of model (m)\n",
    "z_deep = 300 # end depth (m)\n",
    "rho_ice = 0.9239 # density of solid ice at Dome C (g/cm^3)\n",
    "\n",
    "i_start = np.argmin(abs(depths_real-z_start))\n",
    "i_end = np.argmin(abs(depths_real-z_deep))\n",
    "z = depths_real[i_start:i_end+1]\n",
    "dz = depths_real[i_start+1:i_end+2] - z\n",
    "\n",
    "h = z_to_h(z)\n",
    "dh = z_to_h(depths_real[i_start+1:i_end+2]) - h\n",
    "t = np.arange(len(z))\n",
    "\n",
    "fig, ax = plt.subplots(1,1, figsize=(6,5), tight_layout=True)\n",
    "ax.plot(t, z, label='real depth')\n",
    "ax.plot(t, h, label='mass depth')\n",
    "ax.set(xlabel='Time [yrs]',\n",
    "       ylabel='Depth [m]')\n",
    "ax.legend(loc='lower right', fontsize=10)\n",
    "plt.title('Ice Depth by Relative Age')"
   ]
  },
  {
   "cell_type": "code",
   "execution_count": 18,
   "id": "0846f428",
   "metadata": {},
   "outputs": [
    {
     "data": {
      "text/plain": [
       "Text(0.5, 1.0, 'Ice Density Profile')"
      ]
     },
     "execution_count": 18,
     "metadata": {},
     "output_type": "execute_result"
    },
    {
     "data": {
      "image/png": "[encoded data removed]",
      "text/plain": [
       "<Figure size 432x360 with 1 Axes>"
      ]
     },
     "metadata": {
      "needs_background": "light"
     },
     "output_type": "display_data"
    }
   ],
   "source": [
    "rho = dh/dz # calculate density from change in mass depth / real depth\n",
    "\n",
    "fig, ax = plt.subplots(1,1, figsize=(6,5), tight_layout=True)\n",
    "ax.plot(z, rho)\n",
    "ax.set(xlabel='Depth [m]',\n",
    "       ylabel='Density [g/cm^3]')\n",
    "#ax.legend(loc='lower right', fontsize=10)\n",
    "plt.title('Ice Density Profile')"
   ]
  },
  {
   "cell_type": "code",
   "execution_count": 19,
   "id": "3be87068",
   "metadata": {},
   "outputs": [],
   "source": [
    "dcosTH = 0.1\n",
    "cosTH = np.arange(1,0,-dcosTH)\n",
    "\n",
    "#dz = 1\n",
    "#z = np.arange(0,300+dz, dz)"
   ]
  },
  {
   "cell_type": "code",
   "execution_count": 20,
   "id": "89fe1e90",
   "metadata": {},
   "outputs": [],
   "source": [
    "interaction_model = 'DPMJETIII191'\n",
    "#interaction_model = \"SIBYLL-2.3c\"\n",
    "#interaction_model = \"EPOS-LHC\""
   ]
  },
  {
   "cell_type": "code",
   "execution_count": 21,
   "id": "2f84a604",
   "metadata": {},
   "outputs": [],
   "source": [
    "phi_mu_tot = np.load('flux_mat_{}.npy'.format(interaction_model))"
   ]
  },
  {
   "cell_type": "code",
   "execution_count": 22,
   "id": "a74c8d7b",
   "metadata": {},
   "outputs": [],
   "source": [
    "#E_grid, phi_mu_tot = flux_matrix_all(np.concatenate((np.arange(121)+31*121, np.arange(121)+29*121)), z, h, cosTH, dcosTH, rho=rho, interaction_model = interaction_model, elev = 3120)"
   ]
  },
  {
   "cell_type": "code",
   "execution_count": 23,
   "id": "27508759",
   "metadata": {},
   "outputs": [],
   "source": [
    "#np.save('flux_mat_{}.npy'.format(interaction_model), phi_mu_tot)"
   ]
  },
  {
   "cell_type": "code",
   "execution_count": null,
   "id": "1fb2cb6e",
   "metadata": {},
   "outputs": [],
   "source": []
  },
  {
   "cell_type": "code",
   "execution_count": 24,
   "id": "48bbad2d",
   "metadata": {},
   "outputs": [
    {
     "name": "stderr",
     "output_type": "stream",
     "text": [
      "100%|██████████████████████████████████████████████████████████████████████████████████| 10/10 [01:02<00:00,  6.28s/it]\n"
     ]
    }
   ],
   "source": [
    "mceq_surf = [surface_flux(cth) for cth in tqdm(cosTH)]"
   ]
  },
  {
   "cell_type": "code",
   "execution_count": 61,
   "id": "1d183ab8",
   "metadata": {},
   "outputs": [
    {
     "name": "stderr",
     "output_type": "stream",
     "text": [
      "100%|██████████████████████████████████████████████████████████████████████████████████| 10/10 [00:57<00:00,  5.79s/it]\n"
     ]
    }
   ],
   "source": [
    "mceq_surf_0 = [surface_flux(cth, density_model = ('CORSIKA', ('USStd', None)), elev=0) for cth in tqdm(cosTH)]"
   ]
  },
  {
   "cell_type": "code",
   "execution_count": 15,
   "id": "0d54dafb",
   "metadata": {},
   "outputs": [
    {
     "name": "stderr",
     "output_type": "stream",
     "text": [
      "100%|██████████████████████████████████████████████████████████████████████████████████| 10/10 [01:22<00:00,  8.30s/it]\n"
     ]
    }
   ],
   "source": [
    "mceq_surf_HG3_0 = [surface_flux(cth, primary_model = (pm.HillasGaisser2012, \"H3a\"), elev=0) for cth in tqdm(cosTH)]"
   ]
  },
  {
   "cell_type": "code",
   "execution_count": 16,
   "id": "f2ecbc4e",
   "metadata": {},
   "outputs": [
    {
     "name": "stderr",
     "output_type": "stream",
     "text": [
      "100%|██████████████████████████████████████████████████████████████████████████████████| 10/10 [01:23<00:00,  8.37s/it]\n"
     ]
    }
   ],
   "source": [
    "mceq_surf_HG4_0 = [surface_flux(cth, primary_model = (pm.HillasGaisser2012, \"H4a\"), elev=0) for cth in tqdm(cosTH)]"
   ]
  },
  {
   "cell_type": "code",
   "execution_count": 17,
   "id": "b12cea03",
   "metadata": {},
   "outputs": [
    {
     "name": "stderr",
     "output_type": "stream",
     "text": [
      "100%|██████████████████████████████████████████████████████████████████████████████████| 10/10 [01:29<00:00,  8.92s/it]\n"
     ]
    }
   ],
   "source": [
    "mceq_surf_PG_0 = [surface_flux(cth, primary_model = (pm.PolyGonato, False), elev=0) for cth in tqdm(cosTH)]"
   ]
  },
  {
   "cell_type": "code",
   "execution_count": 18,
   "id": "678a4bec",
   "metadata": {},
   "outputs": [
    {
     "name": "stderr",
     "output_type": "stream",
     "text": [
      "100%|██████████████████████████████████████████████████████████████████████████████████| 10/10 [01:29<00:00,  8.99s/it]\n"
     ]
    }
   ],
   "source": [
    "mceq_surf_GST3_0 = [surface_flux(cth, primary_model = (pm.GaisserStanevTilav, \"3-gen\"), elev=0) for cth in tqdm(cosTH)]"
   ]
  },
  {
   "cell_type": "code",
   "execution_count": 19,
   "id": "0a45ed74",
   "metadata": {},
   "outputs": [
    {
     "name": "stderr",
     "output_type": "stream",
     "text": [
      "100%|██████████████████████████████████████████████████████████████████████████████████| 10/10 [01:30<00:00,  9.04s/it]\n"
     ]
    }
   ],
   "source": [
    "mceq_surf_GST4_0 = [surface_flux(cth, primary_model = (pm.GaisserStanevTilav, \"4-gen\"), elev=0) for cth in tqdm(cosTH)]"
   ]
  },
  {
   "cell_type": "code",
   "execution_count": 20,
   "id": "7300a28f",
   "metadata": {},
   "outputs": [
    {
     "name": "stderr",
     "output_type": "stream",
     "text": [
      "100%|██████████████████████████████████████████████████████████████████████████████████| 10/10 [01:31<00:00,  9.20s/it]\n"
     ]
    }
   ],
   "source": [
    "mceq_surf_GHHG_0 = [surface_flux(cth, primary_model = (pm.CombinedGHandHG, \"H3a\"), elev=0) for cth in tqdm(cosTH)]"
   ]
  },
  {
   "cell_type": "code",
   "execution_count": 21,
   "id": "9e4f9736",
   "metadata": {},
   "outputs": [
    {
     "name": "stderr",
     "output_type": "stream",
     "text": [
      "100%|██████████████████████████████████████████████████████████████████████████████████| 10/10 [01:36<00:00,  9.66s/it]\n"
     ]
    }
   ],
   "source": [
    "mceq_surf_ZSP_0 = [surface_flux(cth, primary_model = (pm.ZatsepinSokolskaya, \"pamela\"), elev=0) for cth in tqdm(cosTH)]"
   ]
  },
  {
   "cell_type": "code",
   "execution_count": 22,
   "id": "f0d9a46e",
   "metadata": {},
   "outputs": [
    {
     "name": "stderr",
     "output_type": "stream",
     "text": [
      "100%|██████████████████████████████████████████████████████████████████████████████████| 10/10 [01:35<00:00,  9.50s/it]\n"
     ]
    }
   ],
   "source": [
    "mceq_surf_ZS_0 = [surface_flux(cth, primary_model = (pm.ZatsepinSokolskaya, \"default\"), elev=0) for cth in tqdm(cosTH)]"
   ]
  },
  {
   "cell_type": "code",
   "execution_count": 23,
   "id": "71540303",
   "metadata": {},
   "outputs": [
    {
     "name": "stderr",
     "output_type": "stream",
     "text": [
      "100%|██████████████████████████████████████████████████████████████████████████████████| 10/10 [01:30<00:00,  9.08s/it]\n"
     ]
    }
   ],
   "source": [
    "mceq_surf_GH_0 = [surface_flux(cth, primary_model = (pm.GaisserHonda, None), elev=0) for cth in tqdm(cosTH)]"
   ]
  },
  {
   "cell_type": "code",
   "execution_count": 24,
   "id": "8ae5cdc0",
   "metadata": {},
   "outputs": [
    {
     "name": "stderr",
     "output_type": "stream",
     "text": [
      "100%|██████████████████████████████████████████████████████████████████████████████████| 10/10 [01:31<00:00,  9.13s/it]\n"
     ]
    }
   ],
   "source": [
    "mceq_surf_TIG_0 = [surface_flux(cth, primary_model = (pm.Thunman, None), elev=0) for cth in tqdm(cosTH)]"
   ]
  },
  {
   "cell_type": "code",
   "execution_count": 25,
   "id": "a6314edd",
   "metadata": {},
   "outputs": [
    {
     "name": "stderr",
     "output_type": "stream",
     "text": [
      "100%|██████████████████████████████████████████████████████████████████████████████████| 10/10 [01:32<00:00,  9.25s/it]\n"
     ]
    }
   ],
   "source": [
    "mceq_surf_E27_0 = [surface_flux(cth, primary_model = (pm.SimplePowerlaw27, None), elev=0) for cth in tqdm(cosTH)]"
   ]
  },
  {
   "cell_type": "code",
   "execution_count": 26,
   "id": "820e88d8",
   "metadata": {},
   "outputs": [
    {
     "name": "stderr",
     "output_type": "stream",
     "text": [
      "100%|██████████████████████████████████████████████████████████████████████████████████| 10/10 [01:36<00:00,  9.69s/it]\n"
     ]
    }
   ],
   "source": [
    "mceq_surf_S23c_0 = [surface_flux(cth, primary_model = (pm.SimplePowerlaw27, None), interaction_model = \"SIBYLL-2.3c\", elev=0) for cth in tqdm(cosTH)]"
   ]
  },
  {
   "cell_type": "code",
   "execution_count": 19,
   "id": "a3f5ad53",
   "metadata": {},
   "outputs": [
    {
     "name": "stdout",
     "output_type": "stream",
     "text": [
      "['mu+_l' 'mu+' 'mu+_r' 'mu-_l' 'mu-' 'mu-_r' 'pi0' 'K_L0' 'pi-' 'pi+'\n",
      " 'K_S0' 'K-' 'K+' 'D-' 'D+' 'Dbar0' 'D0' 'D_s-' 'D_s+' 'nbar0' 'n0'\n",
      " 'pbar-' 'p+' 'Lambdabar0' 'Lambda0']\n",
      "['n0' 'p+']\n"
     ]
    }
   ],
   "source": [
    "mceq_test = surface_flux(1, primary_model = (pm.ZatsepinSokolskaya, \"pamela\"), interaction_model = \"SIBYLL-2.3c\", sol=False)\n",
    "\n",
    "print(i_to_pname(mu_sources(mceq_test), mceq_test))\n",
    "print(i_to_pname(np.nonzero(mceq_test._phi0)[0], mceq_test))"
   ]
  },
  {
   "cell_type": "code",
   "execution_count": 38,
   "id": "9283769d",
   "metadata": {},
   "outputs": [
    {
     "name": "stdout",
     "output_type": "stream",
     "text": [
      "['e+'] cannot produce muons\n",
      "['e-'] cannot produce muons\n",
      "['antinue'] cannot produce muons\n",
      "['nue'] cannot produce muons\n",
      "['mu+_l']: 0.07943282347242814 GeV\n",
      "['mu+']: 0.07943282347242814 GeV\n",
      "['mu+_r']: 0.07943282347242814 GeV\n",
      "['mu-_l']: 0.07943282347242814 GeV\n",
      "['mu-']: 0.07943282347242814 GeV\n",
      "['mu-_r']: 0.07943282347242814 GeV\n",
      "['antinumu'] cannot produce muons\n",
      "['numu'] cannot produce muons\n",
      "['antinutau'] cannot produce muons\n",
      "['nutau'] cannot produce muons\n",
      "['gamma'] cannot produce muons\n",
      "['pi0']: 1000000000.0 GeV\n",
      "['K_L0']: 19.952623149688808 GeV\n",
      "['pi-']: 7.943282347242821 GeV\n",
      "['pi+']: 7.943282347242821 GeV\n",
      "['K_S0']: 7943.282347242822 GeV\n",
      "['K-']: 79.43282347242821 GeV\n",
      "['K+']: 79.43282347242821 GeV\n",
      "['D-']: 1995262.3149688828 GeV\n",
      "['D+']: 1995262.3149688828 GeV\n",
      "['Dbar0']: 3981071.7055349695 GeV\n",
      "['D0']: 3981071.7055349695 GeV\n",
      "['D_s-']: 3981071.7055349695 GeV\n",
      "['D_s+']: 3981071.7055349695 GeV\n",
      "['nbar0']: 1.0 GeV\n",
      "['n0']: 1.2589254117941675 GeV\n",
      "['pbar-']: 1.0 GeV\n",
      "['p+']: 1.2589254117941675 GeV\n",
      "['Lambdabar0']: 5011.872336272725 GeV\n",
      "['Lambda0']: 5011.872336272725 GeV\n"
     ]
    }
   ],
   "source": [
    "a = mu_sources(mceq_test)\n",
    "for i in range(34):\n",
    "    b = a[a//121 == i]%121\n",
    "    if len(b)>0:\n",
    "        print(\"{}: {} GeV\".format(i_to_pname(i*121, mceq_test), mceq_test._energy_grid.b[b[0]]))\n",
    "    else:\n",
    "        print(\"{} cannot produce muons\".format(i_to_pname(i*121, mceq_test)))"
   ]
  },
  {
   "cell_type": "code",
   "execution_count": 48,
   "id": "8c31c236",
   "metadata": {},
   "outputs": [
    {
     "data": {
      "text/plain": [
       "array([ 14,  15,  16,  17,  18,  19,  20,  21,  22,  23,  24,  25,  26,\n",
       "        27,  28,  29,  30,  31,  32,  33,  34,  35,  36,  37,  38,  39,\n",
       "        40,  41,  42,  43,  44,  45,  46,  47,  48,  49,  50,  51,  52,\n",
       "        53,  54,  55,  56,  57,  58,  59,  60,  61,  62,  63,  64,  65,\n",
       "        66,  67,  68,  69,  70,  71,  72,  73,  74,  75,  76,  77,  78,\n",
       "        79,  80,  81,  82,  83,  84,  85,  86,  87,  88,  89,  90,  91,\n",
       "        92,  93,  94,  95,  96,  97,  98,  99, 100, 101, 102, 103, 104,\n",
       "       105, 106, 107, 108, 109, 110, 111, 112, 113, 114, 115, 116, 117,\n",
       "       118, 119, 120,  14,  15,  16,  17,  18,  19,  20,  21,  22,  23,\n",
       "        24,  25,  26,  27,  28,  29,  30,  31,  32,  33,  34,  35,  36,\n",
       "        37,  38,  39,  40,  41,  42,  43,  44,  45,  46,  47,  48,  49,\n",
       "        50,  51,  52,  53,  54,  55,  56,  57,  58,  59,  60,  61,  62,\n",
       "        63,  64,  65,  66,  67,  68,  69,  70,  71,  72,  73,  74,  75,\n",
       "        76,  77,  78,  79,  80,  81,  82,  83,  84,  85,  86,  87,  88,\n",
       "        89,  90,  91,  92,  93,  94,  95,  96,  97,  98,  99, 100, 101,\n",
       "       102, 103, 104, 105, 106, 107, 108, 109, 110, 111, 112, 113, 114,\n",
       "       115, 116, 117, 118, 119, 120], dtype=int64)"
      ]
     },
     "execution_count": 48,
     "metadata": {},
     "output_type": "execute_result"
    }
   ],
   "source": [
    "np.nonzero(mceq_test._phi0)[0]%121"
   ]
  },
  {
   "cell_type": "code",
   "execution_count": 20,
   "id": "05376717",
   "metadata": {},
   "outputs": [
    {
     "data": {
      "text/plain": [
       "array(['e+', 'e-', 'antinue', 'nue', 'mu+_l', 'mu+', 'mu+_r', 'mu-_l',\n",
       "       'mu-', 'mu-_r', 'antinumu', 'numu', 'antinutau', 'nutau', 'gamma',\n",
       "       'pi0', 'K_L0', 'pi-', 'pi+', 'K_S0', 'K-', 'K+', 'D-', 'D+',\n",
       "       'Dbar0', 'D0', 'D_s-', 'D_s+', 'nbar0', 'n0', 'pbar-', 'p+',\n",
       "       'Lambdabar0', 'Lambda0'], dtype='<U10')"
      ]
     },
     "execution_count": 20,
     "metadata": {},
     "output_type": "execute_result"
    }
   ],
   "source": [
    "i_to_pname(particle_products('n0', mceq_test), mceq_test)"
   ]
  },
  {
   "cell_type": "code",
   "execution_count": 21,
   "id": "1605d1d8",
   "metadata": {},
   "outputs": [
    {
     "data": {
      "text/plain": [
       "array(['e+', 'e-', 'antinue', 'nue', 'mu+_l', 'mu+', 'mu+_r', 'mu-_l',\n",
       "       'mu-', 'mu-_r', 'antinumu', 'numu', 'antinutau', 'nutau', 'gamma',\n",
       "       'pi0', 'K_L0', 'pi-', 'pi+', 'K_S0', 'K-', 'K+', 'D-', 'D+',\n",
       "       'Dbar0', 'D0', 'D_s-', 'D_s+', 'nbar0', 'n0', 'pbar-', 'p+',\n",
       "       'Lambdabar0', 'Lambda0'], dtype='<U10')"
      ]
     },
     "execution_count": 21,
     "metadata": {},
     "output_type": "execute_result"
    }
   ],
   "source": [
    "i_to_pname(particle_products('p+', mceq_test), mceq_test)"
   ]
  },
  {
   "cell_type": "code",
   "execution_count": 35,
   "id": "32144b4e",
   "metadata": {},
   "outputs": [
    {
     "data": {
      "text/plain": [
       "e+\n",
       "   PDG id : (-11, 0)\n",
       "   MCEq idx : 0\n",
       "\n",
       "e-\n",
       "   PDG id : (11, 0)\n",
       "   MCEq idx : 1\n",
       "\n",
       "antinue\n",
       "   PDG id : (-12, 0)\n",
       "   MCEq idx : 2\n",
       "\n",
       "nue\n",
       "   PDG id : (12, 0)\n",
       "   MCEq idx : 3\n",
       "\n",
       "mu+_l\n",
       "   PDG id : (-13, -1)\n",
       "   MCEq idx : 4\n",
       "\n",
       "mu+\n",
       "   PDG id : (-13, 0)\n",
       "   MCEq idx : 5\n",
       "\n",
       "mu+_r\n",
       "   PDG id : (-13, 1)\n",
       "   MCEq idx : 6\n",
       "\n",
       "mu-_l\n",
       "   PDG id : (13, -1)\n",
       "   MCEq idx : 7\n",
       "\n",
       "mu-\n",
       "   PDG id : (13, 0)\n",
       "   MCEq idx : 8\n",
       "\n",
       "mu-_r\n",
       "   PDG id : (13, 1)\n",
       "   MCEq idx : 9\n",
       "\n",
       "antinumu\n",
       "   PDG id : (-14, 0)\n",
       "   MCEq idx : 10\n",
       "\n",
       "numu\n",
       "   PDG id : (14, 0)\n",
       "   MCEq idx : 11\n",
       "\n",
       "antinutau\n",
       "   PDG id : (-16, 0)\n",
       "   MCEq idx : 12\n",
       "\n",
       "nutau\n",
       "   PDG id : (16, 0)\n",
       "   MCEq idx : 13\n",
       "\n",
       "gamma\n",
       "   PDG id : (22, 0)\n",
       "   MCEq idx : 14\n",
       "\n",
       "pi0\n",
       "   PDG id : (111, 0)\n",
       "   MCEq idx : 15\n",
       "\n",
       "K_L0\n",
       "   PDG id : (130, 0)\n",
       "   MCEq idx : 16\n",
       "\n",
       "pi-\n",
       "   PDG id : (-211, 0)\n",
       "   MCEq idx : 17\n",
       "\n",
       "pi+\n",
       "   PDG id : (211, 0)\n",
       "   MCEq idx : 18\n",
       "\n",
       "K_S0\n",
       "   PDG id : (310, 0)\n",
       "   MCEq idx : 19\n",
       "\n",
       "K-\n",
       "   PDG id : (-321, 0)\n",
       "   MCEq idx : 20\n",
       "\n",
       "K+\n",
       "   PDG id : (321, 0)\n",
       "   MCEq idx : 21\n",
       "\n",
       "D-\n",
       "   PDG id : (-411, 0)\n",
       "   MCEq idx : 22\n",
       "\n",
       "D+\n",
       "   PDG id : (411, 0)\n",
       "   MCEq idx : 23\n",
       "\n",
       "Dbar0\n",
       "   PDG id : (-421, 0)\n",
       "   MCEq idx : 24\n",
       "\n",
       "D0\n",
       "   PDG id : (421, 0)\n",
       "   MCEq idx : 25\n",
       "\n",
       "D_s-\n",
       "   PDG id : (-431, 0)\n",
       "   MCEq idx : 26\n",
       "\n",
       "D_s+\n",
       "   PDG id : (431, 0)\n",
       "   MCEq idx : 27\n",
       "\n",
       "nbar0\n",
       "   PDG id : (-2112, 0)\n",
       "   MCEq idx : 28\n",
       "\n",
       "n0\n",
       "   PDG id : (2112, 0)\n",
       "   MCEq idx : 29\n",
       "\n",
       "pbar-\n",
       "   PDG id : (-2212, 0)\n",
       "   MCEq idx : 30\n",
       "\n",
       "p+\n",
       "   PDG id : (2212, 0)\n",
       "   MCEq idx : 31\n",
       "\n",
       "Lambdabar0\n",
       "   PDG id : (-3122, 0)\n",
       "   MCEq idx : 32\n",
       "\n",
       "Lambda0\n",
       "   PDG id : (3122, 0)\n",
       "   MCEq idx : 33\n"
      ]
     },
     "execution_count": 35,
     "metadata": {},
     "output_type": "execute_result"
    }
   ],
   "source": [
    "mceq_test.pman"
   ]
  },
  {
   "cell_type": "code",
   "execution_count": 50,
   "id": "2dd755b6",
   "metadata": {},
   "outputs": [
    {
     "name": "stdout",
     "output_type": "stream",
     "text": [
      "[1683 1684 1685 1686 1687 1688 1689 1690 1691 1692 1693 1694 1695 1696\n",
      " 1697 1698 1699 1700 1701 1702 1703 1704 1705 1706 1707 1708 1709 1710\n",
      " 1711 1712 1713 1714 1715 1716 1717 1718 1719 1720 1721 1722 1723 1724\n",
      " 1725 1726 1727 1728 1729 1730 1731 1732 1733 1734 1735 1736 1737 1738\n",
      " 1739 1740 1741 1742 1743 1744 1745 1746 1747 1748 1749 1750 1751 1752\n",
      " 1753 1754 1755 1756 1757 1758 1759 1760 1761 1762 1763 1764 1765 1766\n",
      " 1767 1768 1769 1770 1771 1772 1773 1774 1775 1776 1777 1778 1779 1780\n",
      " 1781 1782 1783 1784 1785 1786 1787 1788 1789 1902 1903 1904 1905 1906\n",
      " 1907 1908 1909 1910 1911 1912 1913 1914 1915 1916 1917 1918 1919 1920\n",
      " 1921 1922 1923 1924 1925 1926 1927 1928 1929 1930 1931 1932 1933 1934\n",
      " 1935 1936 1937 1938 1939 1940 1941 1942 1943 1944 1945 1946 1947 1948\n",
      " 1949 1950 1951 1952 1953 1954 1955 1956 1957 1958 1959 1960 1961 1962\n",
      " 1963 1964 1965 1966 1967 1968 1969 1970 1971 1972 1973 1974 1975 1976\n",
      " 1977 1978 1979 1980 1981 1982 1983 1984 1985 1986 1987 1988 1989 1990\n",
      " 1991 1992 1993 1994 1995 1996 1997 1998 1999 2000 2001 2002 2003 2004\n",
      " 2005 2006 2007 2008]\n"
     ]
    }
   ],
   "source": [
    "print(np.arange(len(mceq_surf[0]._phi0[a]))[mceq_surf[0]._phi0[a] >0])"
   ]
  },
  {
   "cell_type": "code",
   "execution_count": 51,
   "id": "32f12128",
   "metadata": {},
   "outputs": [
    {
     "data": {
      "text/plain": [
       "(array([3523, 3524, 3525, 3526, 3527, 3528, 3529, 3530, 3531, 3532, 3533,\n",
       "        3534, 3535, 3536, 3537, 3538, 3539, 3540, 3541, 3542, 3543, 3544,\n",
       "        3545, 3546, 3547, 3548, 3549, 3550, 3551, 3552, 3553, 3554, 3555,\n",
       "        3556, 3557, 3558, 3559, 3560, 3561, 3562, 3563, 3564, 3565, 3566,\n",
       "        3567, 3568, 3569, 3570, 3571, 3572, 3573, 3574, 3575, 3576, 3577,\n",
       "        3578, 3579, 3580, 3581, 3582, 3583, 3584, 3585, 3586, 3587, 3588,\n",
       "        3589, 3590, 3591, 3592, 3593, 3594, 3595, 3596, 3597, 3598, 3599,\n",
       "        3600, 3601, 3602, 3603, 3604, 3605, 3606, 3607, 3608, 3609, 3610,\n",
       "        3611, 3612, 3613, 3614, 3615, 3616, 3617, 3618, 3619, 3620, 3621,\n",
       "        3622, 3623, 3624, 3625, 3626, 3627, 3628, 3629, 3765, 3766, 3767,\n",
       "        3768, 3769, 3770, 3771, 3772, 3773, 3774, 3775, 3776, 3777, 3778,\n",
       "        3779, 3780, 3781, 3782, 3783, 3784, 3785, 3786, 3787, 3788, 3789,\n",
       "        3790, 3791, 3792, 3793, 3794, 3795, 3796, 3797, 3798, 3799, 3800,\n",
       "        3801, 3802, 3803, 3804, 3805, 3806, 3807, 3808, 3809, 3810, 3811,\n",
       "        3812, 3813, 3814, 3815, 3816, 3817, 3818, 3819, 3820, 3821, 3822,\n",
       "        3823, 3824, 3825, 3826, 3827, 3828, 3829, 3830, 3831, 3832, 3833,\n",
       "        3834, 3835, 3836, 3837, 3838, 3839, 3840, 3841, 3842, 3843, 3844,\n",
       "        3845, 3846, 3847, 3848, 3849, 3850, 3851, 3852, 3853, 3854, 3855,\n",
       "        3856, 3857, 3858, 3859, 3860, 3861, 3862, 3863, 3864, 3865, 3866,\n",
       "        3867, 3868, 3869, 3870, 3871], dtype=int64),)"
      ]
     },
     "execution_count": 51,
     "metadata": {},
     "output_type": "execute_result"
    }
   ],
   "source": [
    "np.nonzero(mceq_surf[0]._phi0)"
   ]
  },
  {
   "cell_type": "code",
   "execution_count": 62,
   "id": "a7b66413",
   "metadata": {
    "scrolled": false
   },
   "outputs": [
    {
     "data": {
      "image/png": "[encoded data removed]",
      "text/plain": [
       "<Figure size 432x360 with 1 Axes>"
      ]
     },
     "metadata": {
      "needs_background": "light"
     },
     "output_type": "display_data"
    },
    {
     "data": {
      "image/png": "[encoded data removed]",
      "text/plain": [
       "<Figure size 432x360 with 1 Axes>"
      ]
     },
     "metadata": {
      "needs_background": "light"
     },
     "output_type": "display_data"
    },
    {
     "ename": "NameError",
     "evalue": "name 'mceq_surf_HG3_0' is not defined",
     "output_type": "error",
     "traceback": [
      "\u001b[1;31m---------------------------------------------------------------------------\u001b[0m",
      "\u001b[1;31mNameError\u001b[0m                                 Traceback (most recent call last)",
      "\u001b[1;32m~\\AppData\\Local\\Temp/ipykernel_12424/297966913.py\u001b[0m in \u001b[0;36m<module>\u001b[1;34m\u001b[0m\n\u001b[0;32m      1\u001b[0m \u001b[0mX_surf\u001b[0m \u001b[1;33m=\u001b[0m \u001b[0mplot_surface_spectrum\u001b[0m\u001b[1;33m(\u001b[0m\u001b[0mmceq_surf\u001b[0m\u001b[1;33m,\u001b[0m \u001b[0mtitle\u001b[0m\u001b[1;33m=\u001b[0m\u001b[1;34m'MCEq GSF Beta @ 3120 m'\u001b[0m\u001b[1;33m)\u001b[0m\u001b[1;33m\u001b[0m\u001b[1;33m\u001b[0m\u001b[0m\n\u001b[0;32m      2\u001b[0m \u001b[0mX_surf_0\u001b[0m \u001b[1;33m=\u001b[0m \u001b[0mplot_surface_spectrum\u001b[0m\u001b[1;33m(\u001b[0m\u001b[0mmceq_surf_0\u001b[0m\u001b[1;33m,\u001b[0m \u001b[0mtitle\u001b[0m\u001b[1;33m=\u001b[0m\u001b[1;34m'MCEq GSF Beta @ 0 m'\u001b[0m\u001b[1;33m)\u001b[0m\u001b[1;33m\u001b[0m\u001b[1;33m\u001b[0m\u001b[0m\n\u001b[1;32m----> 3\u001b[1;33m \u001b[0mX_surf_HG3_0\u001b[0m \u001b[1;33m=\u001b[0m \u001b[0mplot_surface_spectrum\u001b[0m\u001b[1;33m(\u001b[0m\u001b[0mmceq_surf_HG3_0\u001b[0m\u001b[1;33m,\u001b[0m \u001b[0mtitle\u001b[0m\u001b[1;33m=\u001b[0m\u001b[1;34m'MCEq HillasGaisser2012 H3a @ 0 m'\u001b[0m\u001b[1;33m)\u001b[0m\u001b[1;33m\u001b[0m\u001b[1;33m\u001b[0m\u001b[0m\n\u001b[0m\u001b[0;32m      4\u001b[0m \u001b[0mX_surf_HG4_0\u001b[0m \u001b[1;33m=\u001b[0m \u001b[0mplot_surface_spectrum\u001b[0m\u001b[1;33m(\u001b[0m\u001b[0mmceq_surf_HG4_0\u001b[0m\u001b[1;33m,\u001b[0m \u001b[0mtitle\u001b[0m\u001b[1;33m=\u001b[0m\u001b[1;34m'MCEq HillasGaisser2012 H4a @ 0 m'\u001b[0m\u001b[1;33m)\u001b[0m\u001b[1;33m\u001b[0m\u001b[1;33m\u001b[0m\u001b[0m\n\u001b[0;32m      5\u001b[0m \u001b[0mX_surf_PG_0\u001b[0m \u001b[1;33m=\u001b[0m \u001b[0mplot_surface_spectrum\u001b[0m\u001b[1;33m(\u001b[0m\u001b[0mmceq_surf_PG_0\u001b[0m\u001b[1;33m,\u001b[0m \u001b[0mtitle\u001b[0m\u001b[1;33m=\u001b[0m\u001b[1;34m'MCEq PolyGonato @ 0 m'\u001b[0m\u001b[1;33m)\u001b[0m\u001b[1;33m\u001b[0m\u001b[1;33m\u001b[0m\u001b[0m\n",
      "\u001b[1;31mNameError\u001b[0m: name 'mceq_surf_HG3_0' is not defined"
     ]
    }
   ],
   "source": [
    "X_surf = plot_surface_spectrum(mceq_surf, title='MCEq GSF Beta @ 3120 m')\n",
    "X_surf_0 = plot_surface_spectrum(mceq_surf_0, title='MCEq GSF Beta @ 0 m')\n",
    "X_surf_HG3_0 = plot_surface_spectrum(mceq_surf_HG3_0, title='MCEq HillasGaisser2012 H3a @ 0 m')\n",
    "X_surf_HG4_0 = plot_surface_spectrum(mceq_surf_HG4_0, title='MCEq HillasGaisser2012 H4a @ 0 m')\n",
    "X_surf_PG_0 = plot_surface_spectrum(mceq_surf_PG_0, title='MCEq PolyGonato @ 0 m')\n",
    "X_surf_GST3_0 = plot_surface_spectrum(mceq_surf_GST3_0, title='MCEq GaisserStanevTilav 3-gen @ 0 m')\n",
    "X_surf_GST4_0 = plot_surface_spectrum(mceq_surf_GST4_0, title='MCEq GaisserStanevTilav 4-gen @ 0 m')\n",
    "X_surf_GHHG_0 = plot_surface_spectrum(mceq_surf_GHHG_0, title='MCEq CombinedGHandHG H3a @ 0 m')\n",
    "X_surf_ZSP_0 = plot_surface_spectrum(mceq_surf_ZSP_0, title='MCEq ZatsepinSokolskaya pamela @ 0 m')\n",
    "X_surf_ZS_0 = plot_surface_spectrum(mceq_surf_ZS_0, title='MCEq ZatsepinSokolskaya default @ 0 m')\n",
    "X_surf_GH_0 = plot_surface_spectrum(mceq_surf_GH_0, title='MCEq GaisserHonda @ 0 m')\n",
    "X_surf_TIG_0 = plot_surface_spectrum(mceq_surf_TIG_0, title='MCEq Thunman @ 0 m')\n",
    "X_surf_E27_0 = plot_surface_spectrum(mceq_surf_E27_0, title='MCEq SimplePowerlaw27 @ 0 m')\n",
    "X_surf_S23c_0 = plot_surface_spectrum(mceq_surf_S23c_0, title='MCEq E^2.7 SIBYLL-2.3c @ 0 m')"
   ]
  },
  {
   "cell_type": "code",
   "execution_count": 65,
   "id": "4606973c",
   "metadata": {},
   "outputs": [
    {
     "data": {
      "image/png": "[encoded data removed]",
      "text/plain": [
       "<Figure size 432x360 with 1 Axes>"
      ]
     },
     "metadata": {
      "needs_background": "light"
     },
     "output_type": "display_data"
    }
   ],
   "source": [
    "E_plt = np.expand_dims(mceq_surf[0]._energy_grid.c[:30],axis=1)\n",
    "cos_plt = cosTH\n",
    "\n",
    "Y = (SDC(E_plt, cos_plt)*E_plt).T\n",
    "fig, ax = plt.subplots(1,1, figsize=(6,5), tight_layout=True)\n",
    "ax.imshow(Y, extent=[np.log10(mceq_surf[0]._energy_grid.b[0]), np.log10(mceq_surf[0]._energy_grid.b[30]), 1, 0], origin='upper', aspect='auto')\n",
    "ax.set(xlabel='log10 Energy [GeV]',\n",
    "       #yscale='log',\n",
    "       ylabel='cos theta')\n",
    "plt.title('Muon Surface Spectrum (SDC)')\n",
    "plt.show()"
   ]
  },
  {
   "cell_type": "code",
   "execution_count": 66,
   "id": "0b6e05bf",
   "metadata": {},
   "outputs": [
    {
     "data": {
      "image/png": "[encoded data removed]",
      "text/plain": [
       "<Figure size 432x360 with 1 Axes>"
      ]
     },
     "metadata": {
      "needs_background": "light"
     },
     "output_type": "display_data"
    }
   ],
   "source": [
    "fig, ax = plt.subplots(1,1, figsize=(6,5), tight_layout=True)\n",
    "ax.imshow(X_surf_0/np.sum(X_surf_0) - Y/np.sum(Y), extent=[np.log10(mceq_surf[0]._energy_grid.b[0]), np.log10(mceq_surf[0]._energy_grid.b[30]), 1, 0], origin='upper', aspect='auto')\n",
    "ax.set(xlabel='log10 Energy [GeV]',\n",
    "       #yscale='log',\n",
    "       ylabel='cos theta')\n",
    "plt.title('Difference')\n",
    "plt.show()"
   ]
  },
  {
   "cell_type": "code",
   "execution_count": 30,
   "id": "3897b191",
   "metadata": {
    "scrolled": true
   },
   "outputs": [
    {
     "name": "stdout",
     "output_type": "stream",
     "text": [
      "Calculating flux through ice at 0.0 degrees\n",
      "HDF5Backend::__init__(): Opening HDF5 file mceq_db_lext_dpm191_v12.h5\n",
      "MCEqRun::set_interaction_model(): DPMJETIII191\n",
      "HDF5Backend::decay_db(): Using helicity dependent decays.\n",
      "Hadrons and stable particles:\n",
      "\"pbar-\", \"p+\"\n",
      "\n",
      "Mixed:\n",
      "\"pi0\", \"K_L0\", \"pi-\", \"pi+\", \"K_S0\", \n",
      "\"K-\", \"K+\", \"D-\", \"D+\", \"Dbar0\", \n",
      "\"D0\", \"D_s-\", \"D_s+\", \"nbar0\", \"n0\", \n",
      "\"Lambdabar0\", \"Lambda0\"\n",
      "\n",
      "Resonances:\n",
      "\n",
      "\n",
      "Leptons:\n",
      "\"e+\", \"e-\", \"antinue\", \"nue\", \"mu+_l\", \n",
      "\"mu+\", \"mu+_r\", \"mu-_l\", \"mu-\", \"mu-_r\", \n",
      "\"antinumu\", \"numu\", \"antinutau\", \"nutau\", \"gamma\"\n",
      "\n",
      "Tracking:\n",
      "\n",
      "\n",
      "Total number of species: 34\n",
      "MCEqRun::set_primary_model(): GlobalSplineFitBeta \n",
      "MCEqRun::_calculate_integration_path(): X_surface = 24675.07g/cm2\n"
     ]
    },
    {
     "name": "stderr",
     "output_type": "stream",
     "text": [
      "100%|█████████████████████████████████████████████████████████████████████████████| 9705/9705 [00:37<00:00, 257.95it/s]\n"
     ]
    },
    {
     "name": "stdout",
     "output_type": "stream",
     "text": [
      "Calculating flux through ice at 25.8 degrees\n",
      "HDF5Backend::__init__(): Opening HDF5 file mceq_db_lext_dpm191_v12.h5\n",
      "MCEqRun::set_interaction_model(): DPMJETIII191\n",
      "HDF5Backend::decay_db(): Using helicity dependent decays.\n",
      "Hadrons and stable particles:\n",
      "\"pbar-\", \"p+\"\n",
      "\n",
      "Mixed:\n",
      "\"pi0\", \"K_L0\", \"pi-\", \"pi+\", \"K_S0\", \n",
      "\"K-\", \"K+\", \"D-\", \"D+\", \"Dbar0\", \n",
      "\"D0\", \"D_s-\", \"D_s+\", \"nbar0\", \"n0\", \n",
      "\"Lambdabar0\", \"Lambda0\"\n",
      "\n",
      "Resonances:\n",
      "\n",
      "\n",
      "Leptons:\n",
      "\"e+\", \"e-\", \"antinue\", \"nue\", \"mu+_l\", \n",
      "\"mu+\", \"mu+_r\", \"mu-_l\", \"mu-\", \"mu-_r\", \n",
      "\"antinumu\", \"numu\", \"antinutau\", \"nutau\", \"gamma\"\n",
      "\n",
      "Tracking:\n",
      "\n",
      "\n",
      "Total number of species: 34\n",
      "MCEqRun::set_primary_model(): GlobalSplineFitBeta \n",
      "MCEqRun::_calculate_integration_path(): X_surface = 27416.74g/cm2\n"
     ]
    },
    {
     "name": "stderr",
     "output_type": "stream",
     "text": [
      "100%|█████████████████████████████████████████████████████████████████████████████| 9705/9705 [00:36<00:00, 267.93it/s]\n"
     ]
    },
    {
     "name": "stdout",
     "output_type": "stream",
     "text": [
      "Calculating flux through ice at 36.9 degrees\n",
      "HDF5Backend::__init__(): Opening HDF5 file mceq_db_lext_dpm191_v12.h5\n",
      "MCEqRun::set_interaction_model(): DPMJETIII191\n",
      "HDF5Backend::decay_db(): Using helicity dependent decays.\n",
      "Hadrons and stable particles:\n",
      "\"pbar-\", \"p+\"\n",
      "\n",
      "Mixed:\n",
      "\"pi0\", \"K_L0\", \"pi-\", \"pi+\", \"K_S0\", \n",
      "\"K-\", \"K+\", \"D-\", \"D+\", \"Dbar0\", \n",
      "\"D0\", \"D_s-\", \"D_s+\", \"nbar0\", \"n0\", \n",
      "\"Lambdabar0\", \"Lambda0\"\n",
      "\n",
      "Resonances:\n",
      "\n",
      "\n",
      "Leptons:\n",
      "\"e+\", \"e-\", \"antinue\", \"nue\", \"mu+_l\", \n",
      "\"mu+\", \"mu+_r\", \"mu-_l\", \"mu-\", \"mu-_r\", \n",
      "\"antinumu\", \"numu\", \"antinutau\", \"nutau\", \"gamma\"\n",
      "\n",
      "Tracking:\n",
      "\n",
      "\n",
      "Total number of species: 34\n",
      "MCEqRun::set_primary_model(): GlobalSplineFitBeta \n",
      "MCEqRun::_calculate_integration_path(): X_surface = 30843.84g/cm2\n"
     ]
    },
    {
     "name": "stderr",
     "output_type": "stream",
     "text": [
      "100%|█████████████████████████████████████████████████████████████████████████████| 9705/9705 [00:36<00:00, 269.18it/s]\n"
     ]
    },
    {
     "name": "stdout",
     "output_type": "stream",
     "text": [
      "Calculating flux through ice at 45.6 degrees\n",
      "HDF5Backend::__init__(): Opening HDF5 file mceq_db_lext_dpm191_v12.h5\n",
      "MCEqRun::set_interaction_model(): DPMJETIII191\n",
      "HDF5Backend::decay_db(): Using helicity dependent decays.\n",
      "Hadrons and stable particles:\n",
      "\"pbar-\", \"p+\"\n",
      "\n",
      "Mixed:\n",
      "\"pi0\", \"K_L0\", \"pi-\", \"pi+\", \"K_S0\", \n",
      "\"K-\", \"K+\", \"D-\", \"D+\", \"Dbar0\", \n",
      "\"D0\", \"D_s-\", \"D_s+\", \"nbar0\", \"n0\", \n",
      "\"Lambdabar0\", \"Lambda0\"\n",
      "\n",
      "Resonances:\n",
      "\n",
      "\n",
      "Leptons:\n",
      "\"e+\", \"e-\", \"antinue\", \"nue\", \"mu+_l\", \n",
      "\"mu+\", \"mu+_r\", \"mu-_l\", \"mu-\", \"mu-_r\", \n",
      "\"antinumu\", \"numu\", \"antinutau\", \"nutau\", \"gamma\"\n",
      "\n",
      "Tracking:\n",
      "\n",
      "\n",
      "Total number of species: 34\n",
      "MCEqRun::set_primary_model(): GlobalSplineFitBeta \n",
      "MCEqRun::_calculate_integration_path(): X_surface = 35250.10g/cm2\n"
     ]
    },
    {
     "name": "stderr",
     "output_type": "stream",
     "text": [
      "100%|█████████████████████████████████████████████████████████████████████████████| 9706/9706 [00:35<00:00, 270.19it/s]\n"
     ]
    },
    {
     "name": "stdout",
     "output_type": "stream",
     "text": [
      "Calculating flux through ice at 53.1 degrees\n",
      "HDF5Backend::__init__(): Opening HDF5 file mceq_db_lext_dpm191_v12.h5\n",
      "MCEqRun::set_interaction_model(): DPMJETIII191\n",
      "HDF5Backend::decay_db(): Using helicity dependent decays.\n",
      "Hadrons and stable particles:\n",
      "\"pbar-\", \"p+\"\n",
      "\n",
      "Mixed:\n",
      "\"pi0\", \"K_L0\", \"pi-\", \"pi+\", \"K_S0\", \n",
      "\"K-\", \"K+\", \"D-\", \"D+\", \"Dbar0\", \n",
      "\"D0\", \"D_s-\", \"D_s+\", \"nbar0\", \"n0\", \n",
      "\"Lambdabar0\", \"Lambda0\"\n",
      "\n",
      "Resonances:\n",
      "\n",
      "\n",
      "Leptons:\n",
      "\"e+\", \"e-\", \"antinue\", \"nue\", \"mu+_l\", \n",
      "\"mu+\", \"mu+_r\", \"mu-_l\", \"mu-\", \"mu-_r\", \n",
      "\"antinumu\", \"numu\", \"antinutau\", \"nutau\", \"gamma\"\n",
      "\n",
      "Tracking:\n",
      "\n",
      "\n",
      "Total number of species: 34\n",
      "MCEqRun::set_primary_model(): GlobalSplineFitBeta \n",
      "MCEqRun::_calculate_integration_path(): X_surface = 41125.11g/cm2\n"
     ]
    },
    {
     "name": "stderr",
     "output_type": "stream",
     "text": [
      "100%|█████████████████████████████████████████████████████████████████████████████| 9705/9705 [00:36<00:00, 267.74it/s]\n"
     ]
    },
    {
     "name": "stdout",
     "output_type": "stream",
     "text": [
      "Calculating flux through ice at 60.0 degrees\n",
      "HDF5Backend::__init__(): Opening HDF5 file mceq_db_lext_dpm191_v12.h5\n",
      "MCEqRun::set_interaction_model(): DPMJETIII191\n",
      "HDF5Backend::decay_db(): Using helicity dependent decays.\n",
      "Hadrons and stable particles:\n",
      "\"pbar-\", \"p+\"\n",
      "\n",
      "Mixed:\n",
      "\"pi0\", \"K_L0\", \"pi-\", \"pi+\", \"K_S0\", \n",
      "\"K-\", \"K+\", \"D-\", \"D+\", \"Dbar0\", \n",
      "\"D0\", \"D_s-\", \"D_s+\", \"nbar0\", \"n0\", \n",
      "\"Lambdabar0\", \"Lambda0\"\n",
      "\n",
      "Resonances:\n",
      "\n",
      "\n",
      "Leptons:\n",
      "\"e+\", \"e-\", \"antinue\", \"nue\", \"mu+_l\", \n",
      "\"mu+\", \"mu+_r\", \"mu-_l\", \"mu-\", \"mu-_r\", \n",
      "\"antinumu\", \"numu\", \"antinutau\", \"nutau\", \"gamma\"\n",
      "\n",
      "Tracking:\n",
      "\n",
      "\n",
      "Total number of species: 34\n",
      "MCEqRun::set_primary_model(): GlobalSplineFitBeta \n",
      "MCEqRun::_calculate_integration_path(): X_surface = 49350.14g/cm2\n"
     ]
    },
    {
     "name": "stderr",
     "output_type": "stream",
     "text": [
      "100%|█████████████████████████████████████████████████████████████████████████████| 9705/9705 [00:35<00:00, 270.92it/s]\n"
     ]
    },
    {
     "name": "stdout",
     "output_type": "stream",
     "text": [
      "Calculating flux through ice at 66.4 degrees\n",
      "HDF5Backend::__init__(): Opening HDF5 file mceq_db_lext_dpm191_v12.h5\n",
      "MCEqRun::set_interaction_model(): DPMJETIII191\n",
      "HDF5Backend::decay_db(): Using helicity dependent decays.\n",
      "Hadrons and stable particles:\n",
      "\"pbar-\", \"p+\"\n",
      "\n",
      "Mixed:\n",
      "\"pi0\", \"K_L0\", \"pi-\", \"pi+\", \"K_S0\", \n",
      "\"K-\", \"K+\", \"D-\", \"D+\", \"Dbar0\", \n",
      "\"D0\", \"D_s-\", \"D_s+\", \"nbar0\", \"n0\", \n",
      "\"Lambdabar0\", \"Lambda0\"\n",
      "\n",
      "Resonances:\n",
      "\n",
      "\n",
      "Leptons:\n",
      "\"e+\", \"e-\", \"antinue\", \"nue\", \"mu+_l\", \n",
      "\"mu+\", \"mu+_r\", \"mu-_l\", \"mu-\", \"mu-_r\", \n",
      "\"antinumu\", \"numu\", \"antinutau\", \"nutau\", \"gamma\"\n",
      "\n",
      "Tracking:\n",
      "\n",
      "\n",
      "Total number of species: 34\n",
      "MCEqRun::set_primary_model(): GlobalSplineFitBeta \n",
      "MCEqRun::_calculate_integration_path(): X_surface = 61687.67g/cm2\n"
     ]
    },
    {
     "name": "stderr",
     "output_type": "stream",
     "text": [
      "100%|█████████████████████████████████████████████████████████████████████████████| 9707/9707 [00:36<00:00, 266.99it/s]\n"
     ]
    },
    {
     "name": "stdout",
     "output_type": "stream",
     "text": [
      "Calculating flux through ice at 72.5 degrees\n",
      "HDF5Backend::__init__(): Opening HDF5 file mceq_db_lext_dpm191_v12.h5\n",
      "MCEqRun::set_interaction_model(): DPMJETIII191\n",
      "HDF5Backend::decay_db(): Using helicity dependent decays.\n",
      "Hadrons and stable particles:\n",
      "\"pbar-\", \"p+\"\n",
      "\n",
      "Mixed:\n",
      "\"pi0\", \"K_L0\", \"pi-\", \"pi+\", \"K_S0\", \n",
      "\"K-\", \"K+\", \"D-\", \"D+\", \"Dbar0\", \n",
      "\"D0\", \"D_s-\", \"D_s+\", \"nbar0\", \"n0\", \n",
      "\"Lambdabar0\", \"Lambda0\"\n",
      "\n",
      "Resonances:\n",
      "\n",
      "\n",
      "Leptons:\n",
      "\"e+\", \"e-\", \"antinue\", \"nue\", \"mu+_l\", \n",
      "\"mu+\", \"mu+_r\", \"mu-_l\", \"mu-\", \"mu-_r\", \n",
      "\"antinumu\", \"numu\", \"antinutau\", \"nutau\", \"gamma\"\n",
      "\n",
      "Tracking:\n",
      "\n",
      "\n",
      "Total number of species: 34\n",
      "MCEqRun::set_primary_model(): GlobalSplineFitBeta \n",
      "MCEqRun::_calculate_integration_path(): X_surface = 82250.23g/cm2\n"
     ]
    },
    {
     "name": "stderr",
     "output_type": "stream",
     "text": [
      "100%|█████████████████████████████████████████████████████████████████████████████| 9730/9730 [00:35<00:00, 270.51it/s]\n"
     ]
    },
    {
     "name": "stdout",
     "output_type": "stream",
     "text": [
      "Calculating flux through ice at 78.5 degrees\n",
      "HDF5Backend::__init__(): Opening HDF5 file mceq_db_lext_dpm191_v12.h5\n",
      "MCEqRun::set_interaction_model(): DPMJETIII191\n",
      "HDF5Backend::decay_db(): Using helicity dependent decays.\n",
      "Hadrons and stable particles:\n",
      "\"pbar-\", \"p+\"\n",
      "\n",
      "Mixed:\n",
      "\"pi0\", \"K_L0\", \"pi-\", \"pi+\", \"K_S0\", \n",
      "\"K-\", \"K+\", \"D-\", \"D+\", \"Dbar0\", \n",
      "\"D0\", \"D_s-\", \"D_s+\", \"nbar0\", \"n0\", \n",
      "\"Lambdabar0\", \"Lambda0\"\n",
      "\n",
      "Resonances:\n",
      "\n",
      "\n",
      "Leptons:\n",
      "\"e+\", \"e-\", \"antinue\", \"nue\", \"mu+_l\", \n",
      "\"mu+\", \"mu+_r\", \"mu-_l\", \"mu-\", \"mu-_r\", \n",
      "\"antinumu\", \"numu\", \"antinutau\", \"nutau\", \"gamma\"\n",
      "\n",
      "Tracking:\n",
      "\n",
      "\n",
      "Total number of species: 34\n",
      "MCEqRun::set_primary_model(): GlobalSplineFitBeta \n",
      "MCEqRun::_calculate_integration_path(): X_surface = 123375.34g/cm2\n"
     ]
    },
    {
     "name": "stderr",
     "output_type": "stream",
     "text": [
      "100%|███████████████████████████████████████████████████████████████████████████| 19411/19411 [01:12<00:00, 269.57it/s]\n"
     ]
    },
    {
     "name": "stdout",
     "output_type": "stream",
     "text": [
      "Calculating flux through ice at 84.3 degrees\n",
      "HDF5Backend::__init__(): Opening HDF5 file mceq_db_lext_dpm191_v12.h5\n",
      "MCEqRun::set_interaction_model(): DPMJETIII191\n",
      "HDF5Backend::decay_db(): Using helicity dependent decays.\n",
      "Hadrons and stable particles:\n",
      "\"pbar-\", \"p+\"\n",
      "\n",
      "Mixed:\n",
      "\"pi0\", \"K_L0\", \"pi-\", \"pi+\", \"K_S0\", \n",
      "\"K-\", \"K+\", \"D-\", \"D+\", \"Dbar0\", \n",
      "\"D0\", \"D_s-\", \"D_s+\", \"nbar0\", \"n0\", \n",
      "\"Lambdabar0\", \"Lambda0\"\n",
      "\n",
      "Resonances:\n",
      "\n",
      "\n",
      "Leptons:\n",
      "\"e+\", \"e-\", \"antinue\", \"nue\", \"mu+_l\", \n",
      "\"mu+\", \"mu+_r\", \"mu-_l\", \"mu-\", \"mu-_r\", \n",
      "\"antinumu\", \"numu\", \"antinutau\", \"nutau\", \"gamma\"\n",
      "\n",
      "Tracking:\n",
      "\n",
      "\n",
      "Total number of species: 34\n",
      "MCEqRun::set_primary_model(): GlobalSplineFitBeta \n",
      "MCEqRun::_calculate_integration_path(): X_surface = 246750.69g/cm2\n"
     ]
    },
    {
     "name": "stderr",
     "output_type": "stream",
     "text": [
      "100%|███████████████████████████████████████████████████████████████████████████| 29139/29139 [01:49<00:00, 265.96it/s]\n"
     ]
    }
   ],
   "source": [
    "mceq_depth = [depth_flux(mceq_surf[i]._solution, z, h, cosTH[i], rho) for i in range(len(cosTH))]"
   ]
  },
  {
   "cell_type": "code",
   "execution_count": 31,
   "id": "9ff31c98",
   "metadata": {
    "scrolled": true
   },
   "outputs": [
    {
     "name": "stdout",
     "output_type": "stream",
     "text": [
      "Calculating flux through ice at 0.0 degrees\n",
      "HDF5Backend::__init__(): Opening HDF5 file mceq_db_lext_dpm191_v12.h5\n",
      "MCEqRun::set_interaction_model(): DPMJETIII191\n",
      "HDF5Backend::decay_db(): Using helicity dependent decays.\n",
      "Hadrons and stable particles:\n",
      "\"pbar-\", \"p+\"\n",
      "\n",
      "Mixed:\n",
      "\"pi0\", \"K_L0\", \"pi-\", \"pi+\", \"K_S0\", \n",
      "\"K-\", \"K+\", \"D-\", \"D+\", \"Dbar0\", \n",
      "\"D0\", \"D_s-\", \"D_s+\", \"nbar0\", \"n0\", \n",
      "\"Lambdabar0\", \"Lambda0\"\n",
      "\n",
      "Resonances:\n",
      "\n",
      "\n",
      "Leptons:\n",
      "\"e+\", \"e-\", \"antinue\", \"nue\", \"mu+_l\", \n",
      "\"mu+\", \"mu+_r\", \"mu-_l\", \"mu-\", \"mu-_r\", \n",
      "\"antinumu\", \"numu\", \"antinutau\", \"nutau\", \"gamma\"\n",
      "\n",
      "Tracking:\n",
      "\n",
      "\n",
      "Total number of species: 34\n",
      "MCEqRun::set_primary_model(): GlobalSplineFitBeta \n",
      "MCEqRun::_calculate_integration_path(): X_surface = 24675.07g/cm2\n"
     ]
    },
    {
     "name": "stderr",
     "output_type": "stream",
     "text": [
      "100%|█████████████████████████████████████████████████████████████████████████████| 9705/9705 [00:36<00:00, 267.03it/s]\n"
     ]
    },
    {
     "name": "stdout",
     "output_type": "stream",
     "text": [
      "Calculating flux through ice at 25.8 degrees\n",
      "HDF5Backend::__init__(): Opening HDF5 file mceq_db_lext_dpm191_v12.h5\n",
      "MCEqRun::set_interaction_model(): DPMJETIII191\n",
      "HDF5Backend::decay_db(): Using helicity dependent decays.\n",
      "Hadrons and stable particles:\n",
      "\"pbar-\", \"p+\"\n",
      "\n",
      "Mixed:\n",
      "\"pi0\", \"K_L0\", \"pi-\", \"pi+\", \"K_S0\", \n",
      "\"K-\", \"K+\", \"D-\", \"D+\", \"Dbar0\", \n",
      "\"D0\", \"D_s-\", \"D_s+\", \"nbar0\", \"n0\", \n",
      "\"Lambdabar0\", \"Lambda0\"\n",
      "\n",
      "Resonances:\n",
      "\n",
      "\n",
      "Leptons:\n",
      "\"e+\", \"e-\", \"antinue\", \"nue\", \"mu+_l\", \n",
      "\"mu+\", \"mu+_r\", \"mu-_l\", \"mu-\", \"mu-_r\", \n",
      "\"antinumu\", \"numu\", \"antinutau\", \"nutau\", \"gamma\"\n",
      "\n",
      "Tracking:\n",
      "\n",
      "\n",
      "Total number of species: 34\n",
      "MCEqRun::set_primary_model(): GlobalSplineFitBeta \n",
      "MCEqRun::_calculate_integration_path(): X_surface = 27416.74g/cm2\n"
     ]
    },
    {
     "name": "stderr",
     "output_type": "stream",
     "text": [
      "100%|█████████████████████████████████████████████████████████████████████████████| 9705/9705 [00:37<00:00, 261.90it/s]\n"
     ]
    },
    {
     "name": "stdout",
     "output_type": "stream",
     "text": [
      "Calculating flux through ice at 36.9 degrees\n",
      "HDF5Backend::__init__(): Opening HDF5 file mceq_db_lext_dpm191_v12.h5\n",
      "MCEqRun::set_interaction_model(): DPMJETIII191\n",
      "HDF5Backend::decay_db(): Using helicity dependent decays.\n",
      "Hadrons and stable particles:\n",
      "\"pbar-\", \"p+\"\n",
      "\n",
      "Mixed:\n",
      "\"pi0\", \"K_L0\", \"pi-\", \"pi+\", \"K_S0\", \n",
      "\"K-\", \"K+\", \"D-\", \"D+\", \"Dbar0\", \n",
      "\"D0\", \"D_s-\", \"D_s+\", \"nbar0\", \"n0\", \n",
      "\"Lambdabar0\", \"Lambda0\"\n",
      "\n",
      "Resonances:\n",
      "\n",
      "\n",
      "Leptons:\n",
      "\"e+\", \"e-\", \"antinue\", \"nue\", \"mu+_l\", \n",
      "\"mu+\", \"mu+_r\", \"mu-_l\", \"mu-\", \"mu-_r\", \n",
      "\"antinumu\", \"numu\", \"antinutau\", \"nutau\", \"gamma\"\n",
      "\n",
      "Tracking:\n",
      "\n",
      "\n",
      "Total number of species: 34\n",
      "MCEqRun::set_primary_model(): GlobalSplineFitBeta \n",
      "MCEqRun::_calculate_integration_path(): X_surface = 30843.84g/cm2\n"
     ]
    },
    {
     "name": "stderr",
     "output_type": "stream",
     "text": [
      "100%|█████████████████████████████████████████████████████████████████████████████| 9705/9705 [00:37<00:00, 259.52it/s]\n"
     ]
    },
    {
     "name": "stdout",
     "output_type": "stream",
     "text": [
      "Calculating flux through ice at 45.6 degrees\n",
      "HDF5Backend::__init__(): Opening HDF5 file mceq_db_lext_dpm191_v12.h5\n",
      "MCEqRun::set_interaction_model(): DPMJETIII191\n",
      "HDF5Backend::decay_db(): Using helicity dependent decays.\n",
      "Hadrons and stable particles:\n",
      "\"pbar-\", \"p+\"\n",
      "\n",
      "Mixed:\n",
      "\"pi0\", \"K_L0\", \"pi-\", \"pi+\", \"K_S0\", \n",
      "\"K-\", \"K+\", \"D-\", \"D+\", \"Dbar0\", \n",
      "\"D0\", \"D_s-\", \"D_s+\", \"nbar0\", \"n0\", \n",
      "\"Lambdabar0\", \"Lambda0\"\n",
      "\n",
      "Resonances:\n",
      "\n",
      "\n",
      "Leptons:\n",
      "\"e+\", \"e-\", \"antinue\", \"nue\", \"mu+_l\", \n",
      "\"mu+\", \"mu+_r\", \"mu-_l\", \"mu-\", \"mu-_r\", \n",
      "\"antinumu\", \"numu\", \"antinutau\", \"nutau\", \"gamma\"\n",
      "\n",
      "Tracking:\n",
      "\n",
      "\n",
      "Total number of species: 34\n",
      "MCEqRun::set_primary_model(): GlobalSplineFitBeta \n",
      "MCEqRun::_calculate_integration_path(): X_surface = 35250.10g/cm2\n"
     ]
    },
    {
     "name": "stderr",
     "output_type": "stream",
     "text": [
      "100%|█████████████████████████████████████████████████████████████████████████████| 9706/9706 [00:37<00:00, 261.44it/s]\n"
     ]
    },
    {
     "name": "stdout",
     "output_type": "stream",
     "text": [
      "Calculating flux through ice at 53.1 degrees\n",
      "HDF5Backend::__init__(): Opening HDF5 file mceq_db_lext_dpm191_v12.h5\n",
      "MCEqRun::set_interaction_model(): DPMJETIII191\n",
      "HDF5Backend::decay_db(): Using helicity dependent decays.\n",
      "Hadrons and stable particles:\n",
      "\"pbar-\", \"p+\"\n",
      "\n",
      "Mixed:\n",
      "\"pi0\", \"K_L0\", \"pi-\", \"pi+\", \"K_S0\", \n",
      "\"K-\", \"K+\", \"D-\", \"D+\", \"Dbar0\", \n",
      "\"D0\", \"D_s-\", \"D_s+\", \"nbar0\", \"n0\", \n",
      "\"Lambdabar0\", \"Lambda0\"\n",
      "\n",
      "Resonances:\n",
      "\n",
      "\n",
      "Leptons:\n",
      "\"e+\", \"e-\", \"antinue\", \"nue\", \"mu+_l\", \n",
      "\"mu+\", \"mu+_r\", \"mu-_l\", \"mu-\", \"mu-_r\", \n",
      "\"antinumu\", \"numu\", \"antinutau\", \"nutau\", \"gamma\"\n",
      "\n",
      "Tracking:\n",
      "\n",
      "\n",
      "Total number of species: 34\n",
      "MCEqRun::set_primary_model(): GlobalSplineFitBeta \n",
      "MCEqRun::_calculate_integration_path(): X_surface = 41125.11g/cm2\n"
     ]
    },
    {
     "name": "stderr",
     "output_type": "stream",
     "text": [
      "100%|█████████████████████████████████████████████████████████████████████████████| 9705/9705 [00:36<00:00, 263.50it/s]\n"
     ]
    },
    {
     "name": "stdout",
     "output_type": "stream",
     "text": [
      "Calculating flux through ice at 60.0 degrees\n",
      "HDF5Backend::__init__(): Opening HDF5 file mceq_db_lext_dpm191_v12.h5\n",
      "MCEqRun::set_interaction_model(): DPMJETIII191\n",
      "HDF5Backend::decay_db(): Using helicity dependent decays.\n",
      "Hadrons and stable particles:\n",
      "\"pbar-\", \"p+\"\n",
      "\n",
      "Mixed:\n",
      "\"pi0\", \"K_L0\", \"pi-\", \"pi+\", \"K_S0\", \n",
      "\"K-\", \"K+\", \"D-\", \"D+\", \"Dbar0\", \n",
      "\"D0\", \"D_s-\", \"D_s+\", \"nbar0\", \"n0\", \n",
      "\"Lambdabar0\", \"Lambda0\"\n",
      "\n",
      "Resonances:\n",
      "\n",
      "\n",
      "Leptons:\n",
      "\"e+\", \"e-\", \"antinue\", \"nue\", \"mu+_l\", \n",
      "\"mu+\", \"mu+_r\", \"mu-_l\", \"mu-\", \"mu-_r\", \n",
      "\"antinumu\", \"numu\", \"antinutau\", \"nutau\", \"gamma\"\n",
      "\n",
      "Tracking:\n",
      "\n",
      "\n",
      "Total number of species: 34\n",
      "MCEqRun::set_primary_model(): GlobalSplineFitBeta \n",
      "MCEqRun::_calculate_integration_path(): X_surface = 49350.14g/cm2\n"
     ]
    },
    {
     "name": "stderr",
     "output_type": "stream",
     "text": [
      "100%|█████████████████████████████████████████████████████████████████████████████| 9705/9705 [00:37<00:00, 262.20it/s]\n"
     ]
    },
    {
     "name": "stdout",
     "output_type": "stream",
     "text": [
      "Calculating flux through ice at 66.4 degrees\n",
      "HDF5Backend::__init__(): Opening HDF5 file mceq_db_lext_dpm191_v12.h5\n",
      "MCEqRun::set_interaction_model(): DPMJETIII191\n",
      "HDF5Backend::decay_db(): Using helicity dependent decays.\n",
      "Hadrons and stable particles:\n",
      "\"pbar-\", \"p+\"\n",
      "\n",
      "Mixed:\n",
      "\"pi0\", \"K_L0\", \"pi-\", \"pi+\", \"K_S0\", \n",
      "\"K-\", \"K+\", \"D-\", \"D+\", \"Dbar0\", \n",
      "\"D0\", \"D_s-\", \"D_s+\", \"nbar0\", \"n0\", \n",
      "\"Lambdabar0\", \"Lambda0\"\n",
      "\n",
      "Resonances:\n",
      "\n",
      "\n",
      "Leptons:\n",
      "\"e+\", \"e-\", \"antinue\", \"nue\", \"mu+_l\", \n",
      "\"mu+\", \"mu+_r\", \"mu-_l\", \"mu-\", \"mu-_r\", \n",
      "\"antinumu\", \"numu\", \"antinutau\", \"nutau\", \"gamma\"\n",
      "\n",
      "Tracking:\n",
      "\n",
      "\n",
      "Total number of species: 34\n",
      "MCEqRun::set_primary_model(): GlobalSplineFitBeta \n",
      "MCEqRun::_calculate_integration_path(): X_surface = 61687.67g/cm2\n"
     ]
    },
    {
     "name": "stderr",
     "output_type": "stream",
     "text": [
      "100%|█████████████████████████████████████████████████████████████████████████████| 9707/9707 [00:37<00:00, 260.51it/s]\n"
     ]
    },
    {
     "name": "stdout",
     "output_type": "stream",
     "text": [
      "Calculating flux through ice at 72.5 degrees\n",
      "HDF5Backend::__init__(): Opening HDF5 file mceq_db_lext_dpm191_v12.h5\n",
      "MCEqRun::set_interaction_model(): DPMJETIII191\n",
      "HDF5Backend::decay_db(): Using helicity dependent decays.\n",
      "Hadrons and stable particles:\n",
      "\"pbar-\", \"p+\"\n",
      "\n",
      "Mixed:\n",
      "\"pi0\", \"K_L0\", \"pi-\", \"pi+\", \"K_S0\", \n",
      "\"K-\", \"K+\", \"D-\", \"D+\", \"Dbar0\", \n",
      "\"D0\", \"D_s-\", \"D_s+\", \"nbar0\", \"n0\", \n",
      "\"Lambdabar0\", \"Lambda0\"\n",
      "\n",
      "Resonances:\n",
      "\n",
      "\n",
      "Leptons:\n",
      "\"e+\", \"e-\", \"antinue\", \"nue\", \"mu+_l\", \n",
      "\"mu+\", \"mu+_r\", \"mu-_l\", \"mu-\", \"mu-_r\", \n",
      "\"antinumu\", \"numu\", \"antinutau\", \"nutau\", \"gamma\"\n",
      "\n",
      "Tracking:\n",
      "\n",
      "\n",
      "Total number of species: 34\n",
      "MCEqRun::set_primary_model(): GlobalSplineFitBeta \n",
      "MCEqRun::_calculate_integration_path(): X_surface = 82250.23g/cm2\n"
     ]
    },
    {
     "name": "stderr",
     "output_type": "stream",
     "text": [
      "100%|█████████████████████████████████████████████████████████████████████████████| 9730/9730 [00:37<00:00, 261.72it/s]\n"
     ]
    },
    {
     "name": "stdout",
     "output_type": "stream",
     "text": [
      "Calculating flux through ice at 78.5 degrees\n",
      "HDF5Backend::__init__(): Opening HDF5 file mceq_db_lext_dpm191_v12.h5\n",
      "MCEqRun::set_interaction_model(): DPMJETIII191\n",
      "HDF5Backend::decay_db(): Using helicity dependent decays.\n",
      "Hadrons and stable particles:\n",
      "\"pbar-\", \"p+\"\n",
      "\n",
      "Mixed:\n",
      "\"pi0\", \"K_L0\", \"pi-\", \"pi+\", \"K_S0\", \n",
      "\"K-\", \"K+\", \"D-\", \"D+\", \"Dbar0\", \n",
      "\"D0\", \"D_s-\", \"D_s+\", \"nbar0\", \"n0\", \n",
      "\"Lambdabar0\", \"Lambda0\"\n",
      "\n",
      "Resonances:\n",
      "\n",
      "\n",
      "Leptons:\n",
      "\"e+\", \"e-\", \"antinue\", \"nue\", \"mu+_l\", \n",
      "\"mu+\", \"mu+_r\", \"mu-_l\", \"mu-\", \"mu-_r\", \n",
      "\"antinumu\", \"numu\", \"antinutau\", \"nutau\", \"gamma\"\n",
      "\n",
      "Tracking:\n",
      "\n",
      "\n",
      "Total number of species: 34\n",
      "MCEqRun::set_primary_model(): GlobalSplineFitBeta \n",
      "MCEqRun::_calculate_integration_path(): X_surface = 123375.34g/cm2\n"
     ]
    },
    {
     "name": "stderr",
     "output_type": "stream",
     "text": [
      "100%|███████████████████████████████████████████████████████████████████████████| 19411/19411 [01:13<00:00, 264.07it/s]\n"
     ]
    },
    {
     "name": "stdout",
     "output_type": "stream",
     "text": [
      "Calculating flux through ice at 84.3 degrees\n",
      "HDF5Backend::__init__(): Opening HDF5 file mceq_db_lext_dpm191_v12.h5\n",
      "MCEqRun::set_interaction_model(): DPMJETIII191\n",
      "HDF5Backend::decay_db(): Using helicity dependent decays.\n",
      "Hadrons and stable particles:\n",
      "\"pbar-\", \"p+\"\n",
      "\n",
      "Mixed:\n",
      "\"pi0\", \"K_L0\", \"pi-\", \"pi+\", \"K_S0\", \n",
      "\"K-\", \"K+\", \"D-\", \"D+\", \"Dbar0\", \n",
      "\"D0\", \"D_s-\", \"D_s+\", \"nbar0\", \"n0\", \n",
      "\"Lambdabar0\", \"Lambda0\"\n",
      "\n",
      "Resonances:\n",
      "\n",
      "\n",
      "Leptons:\n",
      "\"e+\", \"e-\", \"antinue\", \"nue\", \"mu+_l\", \n",
      "\"mu+\", \"mu+_r\", \"mu-_l\", \"mu-\", \"mu-_r\", \n",
      "\"antinumu\", \"numu\", \"antinutau\", \"nutau\", \"gamma\"\n",
      "\n",
      "Tracking:\n",
      "\n",
      "\n",
      "Total number of species: 34\n",
      "MCEqRun::set_primary_model(): GlobalSplineFitBeta \n",
      "MCEqRun::_calculate_integration_path(): X_surface = 246750.69g/cm2\n"
     ]
    },
    {
     "name": "stderr",
     "output_type": "stream",
     "text": [
      "100%|███████████████████████████████████████████████████████████████████████████| 29139/29139 [01:52<00:00, 258.79it/s]\n"
     ]
    }
   ],
   "source": [
    "mceq_depth_0 = [depth_flux(mceq_surf_0[i]._solution, z, h, cosTH[i], rho) for i in range(len(cosTH))]"
   ]
  },
  {
   "cell_type": "code",
   "execution_count": 32,
   "id": "afbc7d94",
   "metadata": {},
   "outputs": [],
   "source": [
    "E_flux = np.expand_dims(mceq_surf[0]._energy_grid.c,axis=1)\n",
    "SDC_flux = SDC(E_flux, cos_plt).T\n",
    "\n",
    "# Negative muon ratio (Cited by Heisinger)\n",
    "K_mu = 1.268 # +/- 0.008 + 0.002 * E[GeV]\n",
    "\n",
    "phi_SDC = np.array([0*mceq_surf[0]._solution for cth in cosTH])\n",
    "phi_SDC[:, mceq_surf[0].pman.pname2pref['mu+'].lidx : mceq_surf[0].pman.pname2pref['mu+'].uidx] = SDC_flux / (K_mu+1) # positive muons\n",
    "phi_SDC[:, mceq_surf[0].pman.pname2pref['mu-'].lidx : mceq_surf[0].pman.pname2pref['mu-'].uidx] = SDC_flux / (1 + 1/K_mu) # negative muons"
   ]
  },
  {
   "cell_type": "code",
   "execution_count": 33,
   "id": "dd8e4220",
   "metadata": {
    "scrolled": true
   },
   "outputs": [
    {
     "name": "stdout",
     "output_type": "stream",
     "text": [
      "Calculating flux through ice at 0.0 degrees\n",
      "HDF5Backend::__init__(): Opening HDF5 file mceq_db_lext_dpm191_v12.h5\n",
      "MCEqRun::set_interaction_model(): DPMJETIII191\n",
      "HDF5Backend::decay_db(): Using helicity dependent decays.\n",
      "Hadrons and stable particles:\n",
      "\"pbar-\", \"p+\"\n",
      "\n",
      "Mixed:\n",
      "\"pi0\", \"K_L0\", \"pi-\", \"pi+\", \"K_S0\", \n",
      "\"K-\", \"K+\", \"D-\", \"D+\", \"Dbar0\", \n",
      "\"D0\", \"D_s-\", \"D_s+\", \"nbar0\", \"n0\", \n",
      "\"Lambdabar0\", \"Lambda0\"\n",
      "\n",
      "Resonances:\n",
      "\n",
      "\n",
      "Leptons:\n",
      "\"e+\", \"e-\", \"antinue\", \"nue\", \"mu+_l\", \n",
      "\"mu+\", \"mu+_r\", \"mu-_l\", \"mu-\", \"mu-_r\", \n",
      "\"antinumu\", \"numu\", \"antinutau\", \"nutau\", \"gamma\"\n",
      "\n",
      "Tracking:\n",
      "\n",
      "\n",
      "Total number of species: 34\n",
      "MCEqRun::set_primary_model(): GlobalSplineFitBeta \n",
      "MCEqRun::_calculate_integration_path(): X_surface = 24675.07g/cm2\n"
     ]
    },
    {
     "name": "stderr",
     "output_type": "stream",
     "text": [
      "100%|█████████████████████████████████████████████████████████████████████████████| 9705/9705 [00:37<00:00, 261.89it/s]\n"
     ]
    },
    {
     "name": "stdout",
     "output_type": "stream",
     "text": [
      "Calculating flux through ice at 25.8 degrees\n",
      "HDF5Backend::__init__(): Opening HDF5 file mceq_db_lext_dpm191_v12.h5\n",
      "MCEqRun::set_interaction_model(): DPMJETIII191\n",
      "HDF5Backend::decay_db(): Using helicity dependent decays.\n",
      "Hadrons and stable particles:\n",
      "\"pbar-\", \"p+\"\n",
      "\n",
      "Mixed:\n",
      "\"pi0\", \"K_L0\", \"pi-\", \"pi+\", \"K_S0\", \n",
      "\"K-\", \"K+\", \"D-\", \"D+\", \"Dbar0\", \n",
      "\"D0\", \"D_s-\", \"D_s+\", \"nbar0\", \"n0\", \n",
      "\"Lambdabar0\", \"Lambda0\"\n",
      "\n",
      "Resonances:\n",
      "\n",
      "\n",
      "Leptons:\n",
      "\"e+\", \"e-\", \"antinue\", \"nue\", \"mu+_l\", \n",
      "\"mu+\", \"mu+_r\", \"mu-_l\", \"mu-\", \"mu-_r\", \n",
      "\"antinumu\", \"numu\", \"antinutau\", \"nutau\", \"gamma\"\n",
      "\n",
      "Tracking:\n",
      "\n",
      "\n",
      "Total number of species: 34\n",
      "MCEqRun::set_primary_model(): GlobalSplineFitBeta \n",
      "MCEqRun::_calculate_integration_path(): X_surface = 27416.74g/cm2\n"
     ]
    },
    {
     "name": "stderr",
     "output_type": "stream",
     "text": [
      "100%|█████████████████████████████████████████████████████████████████████████████| 9705/9705 [00:37<00:00, 259.69it/s]\n"
     ]
    },
    {
     "name": "stdout",
     "output_type": "stream",
     "text": [
      "Calculating flux through ice at 36.9 degrees\n",
      "HDF5Backend::__init__(): Opening HDF5 file mceq_db_lext_dpm191_v12.h5\n",
      "MCEqRun::set_interaction_model(): DPMJETIII191\n",
      "HDF5Backend::decay_db(): Using helicity dependent decays.\n",
      "Hadrons and stable particles:\n",
      "\"pbar-\", \"p+\"\n",
      "\n",
      "Mixed:\n",
      "\"pi0\", \"K_L0\", \"pi-\", \"pi+\", \"K_S0\", \n",
      "\"K-\", \"K+\", \"D-\", \"D+\", \"Dbar0\", \n",
      "\"D0\", \"D_s-\", \"D_s+\", \"nbar0\", \"n0\", \n",
      "\"Lambdabar0\", \"Lambda0\"\n",
      "\n",
      "Resonances:\n",
      "\n",
      "\n",
      "Leptons:\n",
      "\"e+\", \"e-\", \"antinue\", \"nue\", \"mu+_l\", \n",
      "\"mu+\", \"mu+_r\", \"mu-_l\", \"mu-\", \"mu-_r\", \n",
      "\"antinumu\", \"numu\", \"antinutau\", \"nutau\", \"gamma\"\n",
      "\n",
      "Tracking:\n",
      "\n",
      "\n",
      "Total number of species: 34\n",
      "MCEqRun::set_primary_model(): GlobalSplineFitBeta \n",
      "MCEqRun::_calculate_integration_path(): X_surface = 30843.84g/cm2\n"
     ]
    },
    {
     "name": "stderr",
     "output_type": "stream",
     "text": [
      "100%|█████████████████████████████████████████████████████████████████████████████| 9705/9705 [00:37<00:00, 261.83it/s]\n"
     ]
    },
    {
     "name": "stdout",
     "output_type": "stream",
     "text": [
      "Calculating flux through ice at 45.6 degrees\n",
      "HDF5Backend::__init__(): Opening HDF5 file mceq_db_lext_dpm191_v12.h5\n",
      "MCEqRun::set_interaction_model(): DPMJETIII191\n",
      "HDF5Backend::decay_db(): Using helicity dependent decays.\n",
      "Hadrons and stable particles:\n",
      "\"pbar-\", \"p+\"\n",
      "\n",
      "Mixed:\n",
      "\"pi0\", \"K_L0\", \"pi-\", \"pi+\", \"K_S0\", \n",
      "\"K-\", \"K+\", \"D-\", \"D+\", \"Dbar0\", \n",
      "\"D0\", \"D_s-\", \"D_s+\", \"nbar0\", \"n0\", \n",
      "\"Lambdabar0\", \"Lambda0\"\n",
      "\n",
      "Resonances:\n",
      "\n",
      "\n",
      "Leptons:\n",
      "\"e+\", \"e-\", \"antinue\", \"nue\", \"mu+_l\", \n",
      "\"mu+\", \"mu+_r\", \"mu-_l\", \"mu-\", \"mu-_r\", \n",
      "\"antinumu\", \"numu\", \"antinutau\", \"nutau\", \"gamma\"\n",
      "\n",
      "Tracking:\n",
      "\n",
      "\n",
      "Total number of species: 34\n",
      "MCEqRun::set_primary_model(): GlobalSplineFitBeta \n",
      "MCEqRun::_calculate_integration_path(): X_surface = 35250.10g/cm2\n"
     ]
    },
    {
     "name": "stderr",
     "output_type": "stream",
     "text": [
      "100%|█████████████████████████████████████████████████████████████████████████████| 9706/9706 [00:37<00:00, 255.50it/s]\n"
     ]
    },
    {
     "name": "stdout",
     "output_type": "stream",
     "text": [
      "Calculating flux through ice at 53.1 degrees\n",
      "HDF5Backend::__init__(): Opening HDF5 file mceq_db_lext_dpm191_v12.h5\n",
      "MCEqRun::set_interaction_model(): DPMJETIII191\n",
      "HDF5Backend::decay_db(): Using helicity dependent decays.\n",
      "Hadrons and stable particles:\n",
      "\"pbar-\", \"p+\"\n",
      "\n",
      "Mixed:\n",
      "\"pi0\", \"K_L0\", \"pi-\", \"pi+\", \"K_S0\", \n",
      "\"K-\", \"K+\", \"D-\", \"D+\", \"Dbar0\", \n",
      "\"D0\", \"D_s-\", \"D_s+\", \"nbar0\", \"n0\", \n",
      "\"Lambdabar0\", \"Lambda0\"\n",
      "\n",
      "Resonances:\n",
      "\n",
      "\n",
      "Leptons:\n",
      "\"e+\", \"e-\", \"antinue\", \"nue\", \"mu+_l\", \n",
      "\"mu+\", \"mu+_r\", \"mu-_l\", \"mu-\", \"mu-_r\", \n",
      "\"antinumu\", \"numu\", \"antinutau\", \"nutau\", \"gamma\"\n",
      "\n",
      "Tracking:\n",
      "\n",
      "\n",
      "Total number of species: 34\n",
      "MCEqRun::set_primary_model(): GlobalSplineFitBeta \n",
      "MCEqRun::_calculate_integration_path(): X_surface = 41125.11g/cm2\n"
     ]
    },
    {
     "name": "stderr",
     "output_type": "stream",
     "text": [
      "100%|█████████████████████████████████████████████████████████████████████████████| 9705/9705 [00:37<00:00, 259.18it/s]\n"
     ]
    },
    {
     "name": "stdout",
     "output_type": "stream",
     "text": [
      "Calculating flux through ice at 60.0 degrees\n",
      "HDF5Backend::__init__(): Opening HDF5 file mceq_db_lext_dpm191_v12.h5\n",
      "MCEqRun::set_interaction_model(): DPMJETIII191\n",
      "HDF5Backend::decay_db(): Using helicity dependent decays.\n",
      "Hadrons and stable particles:\n",
      "\"pbar-\", \"p+\"\n",
      "\n",
      "Mixed:\n",
      "\"pi0\", \"K_L0\", \"pi-\", \"pi+\", \"K_S0\", \n",
      "\"K-\", \"K+\", \"D-\", \"D+\", \"Dbar0\", \n",
      "\"D0\", \"D_s-\", \"D_s+\", \"nbar0\", \"n0\", \n",
      "\"Lambdabar0\", \"Lambda0\"\n",
      "\n",
      "Resonances:\n",
      "\n",
      "\n",
      "Leptons:\n",
      "\"e+\", \"e-\", \"antinue\", \"nue\", \"mu+_l\", \n",
      "\"mu+\", \"mu+_r\", \"mu-_l\", \"mu-\", \"mu-_r\", \n",
      "\"antinumu\", \"numu\", \"antinutau\", \"nutau\", \"gamma\"\n",
      "\n",
      "Tracking:\n",
      "\n",
      "\n",
      "Total number of species: 34\n",
      "MCEqRun::set_primary_model(): GlobalSplineFitBeta \n",
      "MCEqRun::_calculate_integration_path(): X_surface = 49350.14g/cm2\n"
     ]
    },
    {
     "name": "stderr",
     "output_type": "stream",
     "text": [
      "100%|█████████████████████████████████████████████████████████████████████████████| 9705/9705 [00:37<00:00, 259.55it/s]\n"
     ]
    },
    {
     "name": "stdout",
     "output_type": "stream",
     "text": [
      "Calculating flux through ice at 66.4 degrees\n",
      "HDF5Backend::__init__(): Opening HDF5 file mceq_db_lext_dpm191_v12.h5\n",
      "MCEqRun::set_interaction_model(): DPMJETIII191\n",
      "HDF5Backend::decay_db(): Using helicity dependent decays.\n",
      "Hadrons and stable particles:\n",
      "\"pbar-\", \"p+\"\n",
      "\n",
      "Mixed:\n",
      "\"pi0\", \"K_L0\", \"pi-\", \"pi+\", \"K_S0\", \n",
      "\"K-\", \"K+\", \"D-\", \"D+\", \"Dbar0\", \n",
      "\"D0\", \"D_s-\", \"D_s+\", \"nbar0\", \"n0\", \n",
      "\"Lambdabar0\", \"Lambda0\"\n",
      "\n",
      "Resonances:\n",
      "\n",
      "\n",
      "Leptons:\n",
      "\"e+\", \"e-\", \"antinue\", \"nue\", \"mu+_l\", \n",
      "\"mu+\", \"mu+_r\", \"mu-_l\", \"mu-\", \"mu-_r\", \n",
      "\"antinumu\", \"numu\", \"antinutau\", \"nutau\", \"gamma\"\n",
      "\n",
      "Tracking:\n",
      "\n",
      "\n",
      "Total number of species: 34\n",
      "MCEqRun::set_primary_model(): GlobalSplineFitBeta \n",
      "MCEqRun::_calculate_integration_path(): X_surface = 61687.67g/cm2\n"
     ]
    },
    {
     "name": "stderr",
     "output_type": "stream",
     "text": [
      "100%|█████████████████████████████████████████████████████████████████████████████| 9707/9707 [00:37<00:00, 259.04it/s]\n"
     ]
    },
    {
     "name": "stdout",
     "output_type": "stream",
     "text": [
      "Calculating flux through ice at 72.5 degrees\n",
      "HDF5Backend::__init__(): Opening HDF5 file mceq_db_lext_dpm191_v12.h5\n",
      "MCEqRun::set_interaction_model(): DPMJETIII191\n",
      "HDF5Backend::decay_db(): Using helicity dependent decays.\n",
      "Hadrons and stable particles:\n",
      "\"pbar-\", \"p+\"\n",
      "\n",
      "Mixed:\n",
      "\"pi0\", \"K_L0\", \"pi-\", \"pi+\", \"K_S0\", \n",
      "\"K-\", \"K+\", \"D-\", \"D+\", \"Dbar0\", \n",
      "\"D0\", \"D_s-\", \"D_s+\", \"nbar0\", \"n0\", \n",
      "\"Lambdabar0\", \"Lambda0\"\n",
      "\n",
      "Resonances:\n",
      "\n",
      "\n",
      "Leptons:\n",
      "\"e+\", \"e-\", \"antinue\", \"nue\", \"mu+_l\", \n",
      "\"mu+\", \"mu+_r\", \"mu-_l\", \"mu-\", \"mu-_r\", \n",
      "\"antinumu\", \"numu\", \"antinutau\", \"nutau\", \"gamma\"\n",
      "\n",
      "Tracking:\n",
      "\n",
      "\n",
      "Total number of species: 34\n",
      "MCEqRun::set_primary_model(): GlobalSplineFitBeta \n",
      "MCEqRun::_calculate_integration_path(): X_surface = 82250.23g/cm2\n"
     ]
    },
    {
     "name": "stderr",
     "output_type": "stream",
     "text": [
      "100%|█████████████████████████████████████████████████████████████████████████████| 9730/9730 [00:43<00:00, 224.66it/s]\n"
     ]
    },
    {
     "name": "stdout",
     "output_type": "stream",
     "text": [
      "Calculating flux through ice at 78.5 degrees\n",
      "HDF5Backend::__init__(): Opening HDF5 file mceq_db_lext_dpm191_v12.h5\n",
      "MCEqRun::set_interaction_model(): DPMJETIII191\n",
      "HDF5Backend::decay_db(): Using helicity dependent decays.\n",
      "Hadrons and stable particles:\n",
      "\"pbar-\", \"p+\"\n",
      "\n",
      "Mixed:\n",
      "\"pi0\", \"K_L0\", \"pi-\", \"pi+\", \"K_S0\", \n",
      "\"K-\", \"K+\", \"D-\", \"D+\", \"Dbar0\", \n",
      "\"D0\", \"D_s-\", \"D_s+\", \"nbar0\", \"n0\", \n",
      "\"Lambdabar0\", \"Lambda0\"\n",
      "\n",
      "Resonances:\n",
      "\n",
      "\n",
      "Leptons:\n",
      "\"e+\", \"e-\", \"antinue\", \"nue\", \"mu+_l\", \n",
      "\"mu+\", \"mu+_r\", \"mu-_l\", \"mu-\", \"mu-_r\", \n",
      "\"antinumu\", \"numu\", \"antinutau\", \"nutau\", \"gamma\"\n",
      "\n",
      "Tracking:\n",
      "\n",
      "\n",
      "Total number of species: 34\n",
      "MCEqRun::set_primary_model(): GlobalSplineFitBeta \n",
      "MCEqRun::_calculate_integration_path(): X_surface = 123375.34g/cm2\n"
     ]
    },
    {
     "name": "stderr",
     "output_type": "stream",
     "text": [
      "100%|███████████████████████████████████████████████████████████████████████████| 19411/19411 [01:28<00:00, 219.99it/s]\n"
     ]
    },
    {
     "name": "stdout",
     "output_type": "stream",
     "text": [
      "Calculating flux through ice at 84.3 degrees\n",
      "HDF5Backend::__init__(): Opening HDF5 file mceq_db_lext_dpm191_v12.h5\n",
      "MCEqRun::set_interaction_model(): DPMJETIII191\n",
      "HDF5Backend::decay_db(): Using helicity dependent decays.\n",
      "Hadrons and stable particles:\n",
      "\"pbar-\", \"p+\"\n",
      "\n",
      "Mixed:\n",
      "\"pi0\", \"K_L0\", \"pi-\", \"pi+\", \"K_S0\", \n",
      "\"K-\", \"K+\", \"D-\", \"D+\", \"Dbar0\", \n",
      "\"D0\", \"D_s-\", \"D_s+\", \"nbar0\", \"n0\", \n",
      "\"Lambdabar0\", \"Lambda0\"\n",
      "\n",
      "Resonances:\n",
      "\n",
      "\n",
      "Leptons:\n",
      "\"e+\", \"e-\", \"antinue\", \"nue\", \"mu+_l\", \n",
      "\"mu+\", \"mu+_r\", \"mu-_l\", \"mu-\", \"mu-_r\", \n",
      "\"antinumu\", \"numu\", \"antinutau\", \"nutau\", \"gamma\"\n",
      "\n",
      "Tracking:\n",
      "\n",
      "\n",
      "Total number of species: 34\n",
      "MCEqRun::set_primary_model(): GlobalSplineFitBeta \n",
      "MCEqRun::_calculate_integration_path(): X_surface = 246750.69g/cm2\n"
     ]
    },
    {
     "name": "stderr",
     "output_type": "stream",
     "text": [
      "100%|███████████████████████████████████████████████████████████████████████████| 29139/29139 [02:16<00:00, 213.28it/s]\n"
     ]
    }
   ],
   "source": [
    "mceq_depth_SDC = [depth_flux(phi_SDC[i], z, h, cosTH[i], rho) for i in range(len(cosTH))]"
   ]
  },
  {
   "cell_type": "code",
   "execution_count": 38,
   "id": "b19c972c",
   "metadata": {},
   "outputs": [],
   "source": [
    "# Is this step calculating the average momentum for a given depth and finding the atmospheric attenuation length\n",
    "# for that momentum?\n",
    "\n",
    "# If Attenuation varies by momentum, shouldn't the energy spectrum change as a result?\n",
    "\n",
    "\n",
    "pressure = 65800 # surface pressure in Pa, should be 65800 for Dome C\n",
    "\n",
    "# figure the difference in atmospheric depth from sea level in g/cm2\n",
    "H = (1013.25 - pressure/100)*1.019716 # the 1.019716 number is basically just 1/g accounting for needed unit conversions\n",
    "\n",
    "# define range/momentum relation\n",
    "# table for muons in standard rock in Groom and others 2001\n",
    "\n",
    "# g/cm^2\n",
    "h_range = np.array([8.516e-1, 1.542e0, 2.866e0, 5.698e0, 9.145e0, 2.676e1, 3.696e1, 5.879e1, 9.332e1, 1.524e2,\n",
    "                    2.115e2, 4.418e2, 5.534e2, 7.712e2, 1.088e3, 1.599e3, 2.095e3, 3.998e3, 4.920e3, 6.724e3,\n",
    "                    9.360e3, 1.362e4, 1.776e4, 3.343e4, 4.084e4, 5.495e4, 7.459e4, 1.040e5, 1.302e5, 2.129e5])\n",
    "\n",
    "# MeV/c\n",
    "momentum = np.array([4.704e1, 5.616e1, 6.802e1, 8.509e1, 1.003e2, 1.527e2, 1.764e2, 2.218e2, 2.868e2, 3.917e2,\n",
    "                     4.945e2, 8.995e2, 1.101e3, 1.502e3, 2.103e3, 3.104e3, 4.104e3, 8.105e3, 1.011e4, 1.411e4,\n",
    "                     2.011e4, 3.011e4, 4.011e4, 8.011e4, 1.001e5, 1.401e5, 2.001e5, 3.001e5, 4.001e5, 8.001e5])\n",
    "\n",
    "def att_L(h):\n",
    "    # effective atmospheric attenuation length for muons at mass depth h\n",
    "    \n",
    "    P_MeVc = np.exp(np.interp(np.log(h*100), np.log(h_range), np.log(momentum)))\n",
    "    \n",
    "    return 263 + 150 * P_MeVc/1000"
   ]
  },
  {
   "cell_type": "code",
   "execution_count": 39,
   "id": "f4a31531",
   "metadata": {},
   "outputs": [],
   "source": [
    "def phi_vert_slhl(h):\n",
    "    #parameters\n",
    "    p = [258.5,  #p0\n",
    "        -5.5e-4, #p1\n",
    "        210,     #p2\n",
    "        10,      #p3\n",
    "        1.66,    #p4\n",
    "        75]      #p5\n",
    "    \n",
    "    a = np.exp(p[1] * h)\n",
    "    b = h + p[2]\n",
    "    c = (h+p[3])**p[4] + p[5]\n",
    "    \n",
    "    Phi_v = p[0] * a / b / c  # cm^-2 s^-1 sr^-1\n",
    "    \n",
    "    return Phi_v"
   ]
  },
  {
   "cell_type": "code",
   "execution_count": 40,
   "id": "efcc52f4",
   "metadata": {},
   "outputs": [],
   "source": [
    "def R_vert_slhl(h):\n",
    "    #parameters\n",
    "    p = [258.5,  #p0\n",
    "        -5.5e-4, #p1\n",
    "        210,     #p2\n",
    "        10,      #p3\n",
    "        1.66,    #p4\n",
    "        75]      #p5\n",
    "    \n",
    "    a = np.exp(p[1] * h)\n",
    "    b = h + p[2]\n",
    "    c = (h+p[3])**p[4] + p[5]\n",
    "    \n",
    "    dadh = p[1] * a\n",
    "    dbdh = 1.\n",
    "    dcdh = p[4] * (h+p[3])**(p[4]-1)\n",
    "    \n",
    "    R_v = -p[0] * (b*c*dadh - a*c*dbdh - a*b*dcdh)/ b**2 / c**2  # hg^-1 s^-1 sr^-1\n",
    "    \n",
    "    return R_v"
   ]
  },
  {
   "cell_type": "code",
   "execution_count": 41,
   "id": "1ecd5c08",
   "metadata": {},
   "outputs": [],
   "source": [
    "def phi_vert_site(h, dh, H=H, h_end=2e3):\n",
    "    \n",
    "    Phi_v= phi_vert_slhl(h)\n",
    "    \n",
    "    R_v = R_vert_slhl(h)\n",
    "    \n",
    "    R_site = R_v * np.exp(H/att_L(h))\n",
    "    \n",
    "    Phi_end = phi_vert_slhl(h_end)\n",
    "    \n",
    "    dh_ext = 1\n",
    "    h_ext = np.arange(h[-1]+dh_ext, h_end+dh_ext, dh_ext)\n",
    "    \n",
    "    h_int = np.append(h, h_ext)\n",
    "    dh_int = np.append(dh, dh_ext + 0*h_ext)\n",
    "    \n",
    "    R_int = R_vert_slhl(h_int) * np.exp(H/att_L(h_int))\n",
    "    \n",
    "    Phi_site = np.flip(np.cumsum(np.flip(R_int * dh_int))) + (1-np.exp(H/att_L(h_end)))*Phi_end\n",
    "    \n",
    "    Phi_site = Phi_site[:len(h)]\n",
    "    \n",
    "    #approximation where the exponential is almost constant in h\n",
    "    #Phi_site = Phi_v * np.exp(H/att_L(h)) + (1-np.exp(H/att_L(h_end)))*Phi_end\n",
    "    \n",
    "    return Phi_site, R_site"
   ]
  },
  {
   "cell_type": "code",
   "execution_count": 42,
   "id": "aa6af8a0",
   "metadata": {},
   "outputs": [],
   "source": [
    "def cos_pow(h, H=H):\n",
    "    #parameters\n",
    "    p = [3.21,     #p0\n",
    "         0.297,    #p1\n",
    "         42,       #p2\n",
    "         1.21e-3]  #p3\n",
    "    \n",
    "    #H = (1013.25 - pressure/100) * 1.019716\n",
    "    #h_mod = h + H (atmospheric depth diff. from sea level)\n",
    "    \n",
    "    # shouldn't H be subtracted here?\n",
    "    \n",
    "    n = p[0] - p[1]*np.log(h + H/100 + p[2]) + p[3] * (h + H/100)\n",
    "    \n",
    "    dndh = -p[1]/(h + H/100 + p[2]) + p[3]\n",
    "    \n",
    "    return n, dndh"
   ]
  },
  {
   "cell_type": "code",
   "execution_count": 43,
   "id": "a4dafee7",
   "metadata": {},
   "outputs": [],
   "source": [
    "def f_mu_neg(h = None):\n",
    "    K_mu = 1.268 # +/- 0.008 + 0.002 * E[GeV]\n",
    "    \n",
    "    return 1/(K_mu+1)"
   ]
  },
  {
   "cell_type": "code",
   "execution_count": 44,
   "id": "edadf780",
   "metadata": {},
   "outputs": [],
   "source": [
    "def phi_all(h, dh, H=H, cos_pow_func=cos_pow, f_func=f_mu_neg):\n",
    "    \n",
    "    n, dndh = cos_pow_func(h, H)\n",
    "    \n",
    "    Phi_v, R_v = phi_vert_site(h, dh, H)\n",
    "    \n",
    "    Phi = 2*np.pi/(n+1) * Phi_v\n",
    "    \n",
    "    R = f_func(h) * (2*np.pi * R_v + Phi*dndh) / (n+1)\n",
    "    \n",
    "    return Phi, R # cm^-2 s^-1"
   ]
  },
  {
   "cell_type": "code",
   "execution_count": 45,
   "id": "12288048",
   "metadata": {},
   "outputs": [
    {
     "name": "stderr",
     "output_type": "stream",
     "text": [
      "C:\\Users\\walte\\AppData\\Local\\Temp/ipykernel_10500/881969149.py:28: RuntimeWarning: divide by zero encountered in log\n",
      "  P_MeVc = np.exp(np.interp(np.log(h*100), np.log(h_range), np.log(momentum)))\n"
     ]
    }
   ],
   "source": [
    "Phi = phi_all(h, dh+h*0)[0]\n",
    "Phi0 = phi_all(h, dh+h*0, H=0)[0]"
   ]
  },
  {
   "cell_type": "code",
   "execution_count": 67,
   "id": "2a8e71e3",
   "metadata": {},
   "outputs": [],
   "source": [
    "def get_primary(primary_model = (pm.GlobalSplineFitBeta, None)):\n",
    "    mceq = surface_flux(0, primary_model=primary_model, sol=False)\n",
    "    return mceq, np.concatenate((mceq._phi0[31*121:32*121], mceq._phi0[29*121:30*121]))"
   ]
  },
  {
   "cell_type": "code",
   "execution_count": 63,
   "id": "d79fe64b",
   "metadata": {},
   "outputs": [],
   "source": [
    "p_models = [(pm.GlobalSplineFitBeta, None), (pm.HillasGaisser2012, \"H3a\"), (pm.HillasGaisser2012, \"H4a\"), (pm.PolyGonato, False),\n",
    "           (pm.GaisserStanevTilav, \"3-gen\"), (pm.GaisserStanevTilav, \"4-gen\"), (pm.CombinedGHandHG, \"H3a\"),\n",
    "           (pm.ZatsepinSokolskaya, \"pamela\"), (pm.ZatsepinSokolskaya, \"default\"), (pm.GaisserHonda, None),\n",
    "           (pm.Thunman, None), (pm.SimplePowerlaw27, None)]\n",
    "model_names = ['GlobalSplineFitBeta', 'HillasGaisser2012 H3a', 'HillasGaisser2012 H4a', 'PolyGonato',\n",
    "              'GaisserStanevTilav 3-gen', 'GaisserStanevTilav 4-gen', 'CombinedGHandHG H3a',\n",
    "              'ZatsepinSokolskaya pamela', 'ZatsepinSokolskaya default', 'GaisserHonda',\n",
    "              'Thunman', 'SimplePowerlaw27']"
   ]
  },
  {
   "cell_type": "code",
   "execution_count": 68,
   "id": "cbe8d90a",
   "metadata": {},
   "outputs": [],
   "source": [
    "mceq = get_primary()[0]\n",
    "E_grid = mceq._energy_grid.c"
   ]
  },
  {
   "cell_type": "code",
   "execution_count": 76,
   "id": "412c63d3",
   "metadata": {},
   "outputs": [],
   "source": [
    "Primaries = [get_primary(p)[1] for p in p_models]"
   ]
  },
  {
   "cell_type": "code",
   "execution_count": 85,
   "id": "ff69d967",
   "metadata": {},
   "outputs": [],
   "source": [
    "MU_spect = [phi_mu_tot @ phi0 for phi0 in Primaries]\n",
    "MU_tot = [np.sum(mu_spect, axis=1) for mu_spect in MU_spect]\n",
    "E_MU_avg = [np.sum(MU_spect[i]*E_grid, axis=1)/MU_tot[i] for i in range(len(MU_spect))]"
   ]
  },
  {
   "cell_type": "code",
   "execution_count": null,
   "id": "df3c1881",
   "metadata": {},
   "outputs": [],
   "source": []
  },
  {
   "cell_type": "code",
   "execution_count": 97,
   "id": "db0674da",
   "metadata": {},
   "outputs": [
    {
     "data": {
      "text/plain": [
       "Text(0.5, 1.0, 'Total Muon Flux over Depth')"
      ]
     },
     "execution_count": 97,
     "metadata": {},
     "output_type": "execute_result"
    },
    {
     "data": {
      "image/png": "[encoded data removed]",
      "text/plain": [
       "<Figure size 432x360 with 1 Axes>"
      ]
     },
     "metadata": {
      "needs_background": "light"
     },
     "output_type": "display_data"
    }
   ],
   "source": [
    "#config.return_as = 'kinetic energy'\n",
    "\n",
    "#longitudinal_spectrum = np.array([[mceq_depth[i].get_solution('mu-', grid_idx=idx, integrate=True)+mceq_depth[i].get_solution('mu+', grid_idx=idx, integrate=True) for idx in range(len(h))] for i in range(len(cosTH))])\n",
    "#Spec_tot = 2*np.pi*np.sum(longitudinal_spectrum*dcosTH, axis=(0,2)) # number of particles per cm^2 per s?\n",
    "\n",
    "#longitudinal_spectrum_0 = np.array([[mceq_depth_0[i].get_solution('mu-', grid_idx=idx, integrate=True)+mceq_depth_0[i].get_solution('mu+', grid_idx=idx, integrate=True) for idx in range(len(h))] for i in range(len(cosTH))])\n",
    "#Spec_tot_0 = 2*np.pi*np.sum(longitudinal_spectrum_0*dcosTH, axis=(0,2)) # number of particles per cm^2 per s?\n",
    "\n",
    "#longitudinal_spectrum_SDC = np.array([[mceq_depth_SDC[i].get_solution('mu-', grid_idx=idx, integrate=True)+mceq_depth_SDC[i].get_solution('mu+', grid_idx=idx, integrate=True) for idx in range(len(h))] for i in range(len(cosTH))])\n",
    "#Spec_tot_SDC = 2*np.pi*np.sum(longitudinal_spectrum_SDC*dcosTH, axis=(0,2)) # number of particles per cm^2 per s?\n",
    "\n",
    "fig, ax = plt.subplots(1,1, figsize=(6,5), tight_layout=True)\n",
    "ax.axvspan(h[z>96.5][0], h[-1], color='grey', alpha=0.3, label='Sample Depth')\n",
    "#ax.plot(h, Spec_tot_0, label='MCEq @ 0 m')\n",
    "#ax.plot(h, Spec_tot_SDC, label='MCEq SDC @ 0 m')\n",
    "#ax.plot(h, Spec_tot, label='MCEq @ 3120 m')\n",
    "ax.plot(h, Phi0, ls='--', c='red', label='Heisinger 2002')\n",
    "ax.plot(h, Phi, ls='--', c='orange', label='Balco elev. corrected')\n",
    "ax.set(xlim = (1, h[-1]),\n",
    "       xscale = 'log',\n",
    "       xlabel='Mass Depth [hg/cm^2]',\n",
    "       yscale = 'log',\n",
    "       ylabel='N_mu [cm^-2 s^-1]')\n",
    "ax.legend(loc='lower left', fontsize=7)\n",
    "plt.title('Total Muon Flux over Depth')"
   ]
  },
  {
   "cell_type": "code",
   "execution_count": 95,
   "id": "ae0e316d",
   "metadata": {},
   "outputs": [
    {
     "data": {
      "text/plain": [
       "Text(0.5, 1.0, 'Total Muon Flux over Depth')"
      ]
     },
     "execution_count": 95,
     "metadata": {},
     "output_type": "execute_result"
    },
    {
     "data": {
      "image/png": "[encoded data removed]",
      "text/plain": [
       "<Figure size 432x360 with 1 Axes>"
      ]
     },
     "metadata": {
      "needs_background": "light"
     },
     "output_type": "display_data"
    }
   ],
   "source": [
    "fig, ax = plt.subplots(1,1, figsize=(6,5), tight_layout=True)\n",
    "ax.axvspan(h[z>96.5][0], h[-1], color='grey', alpha=0.3, label='Sample Depth')\n",
    "#ax.plot(h, Spec_tot_0/Phi0, label='MCEq @ 0 m')\n",
    "#ax.plot(h, Spec_tot_SDC/Phi0, label='MCEq SDC @ 0 m')\n",
    "#ax.plot(h, Spec_tot/Phi, label='MCEq @ 3120 m')\n",
    "ax.set(xlim = (1, h[-1]),\n",
    "       xscale = 'log',\n",
    "       xlabel='Mass Depth [hg/cm^2]',\n",
    "       yscale = 'log',\n",
    "       ylabel='N_mu [cm^-2 s^-1]')\n",
    "ax.legend(loc='lower left', fontsize=7)\n",
    "plt.title('Total Muon Flux over Depth')"
   ]
  },
  {
   "cell_type": "code",
   "execution_count": 93,
   "id": "58275bff",
   "metadata": {
    "scrolled": false
   },
   "outputs": [
    {
     "data": {
      "text/plain": [
       "Text(0.5, 1.0, 'Average Muon Energy over Depth')"
      ]
     },
     "execution_count": 93,
     "metadata": {},
     "output_type": "execute_result"
    },
    {
     "data": {
      "image/png": "[encoded data removed]",
      "text/plain": [
       "<Figure size 432x360 with 1 Axes>"
      ]
     },
     "metadata": {
      "needs_background": "light"
     },
     "output_type": "display_data"
    }
   ],
   "source": [
    "#E_avg = 2*np.pi*np.sum(longitudinal_spectrum * dcosTH * mceq_depth[0]._energy_grid.c, axis=(0,2))/Spec_tot\n",
    "#E_avg_0 = 2*np.pi*np.sum(longitudinal_spectrum_0 * dcosTH * mceq_depth_0[0]._energy_grid.c, axis=(0,2))/Spec_tot_0\n",
    "#E_avg_SDC = 2*np.pi*np.sum(longitudinal_spectrum_SDC * dcosTH * mceq_depth_SDC[0]._energy_grid.c, axis=(0,2))/Spec_tot_SDC\n",
    "\n",
    "E_pred = 7.6 + 321.7 * (1-np.exp(-8.059e-4*h)) + 50.7*(1-np.exp(-5.05e-5*h)) #Heisinger 2002\n",
    "\n",
    "fig, ax = plt.subplots(1,1, figsize=(6,5), tight_layout=True)\n",
    "ax.axvspan(h[z>96.5][0], h[-1], color='grey', alpha=0.3, label='Sample Depth')\n",
    "#ax.plot(h, E_avg_0, label='MCEq @ 0 m')\n",
    "#ax.plot(h, E_avg_SDC, label='MCEq SDC @ 0 m')\n",
    "#ax.plot(h, E_avg, label='MCEq @ 3120 m')\n",
    "ax.plot(h, E_pred, ls='--', c='red', label='Heisinger 2002')\n",
    "ax.set(xlim = (1, h[-1]),\n",
    "       xscale = 'log',\n",
    "       xlabel='Mass Depth [hg/cm^2]',\n",
    "       ylim = (1,1000),\n",
    "       yscale = 'log',\n",
    "       ylabel='Average Muon Energy [GeV]')\n",
    "ax.legend(loc='upper left', fontsize=7)\n",
    "plt.title('Average Muon Energy over Depth')"
   ]
  },
  {
   "cell_type": "code",
   "execution_count": 94,
   "id": "4ba49049",
   "metadata": {},
   "outputs": [
    {
     "data": {
      "text/plain": [
       "Text(0.5, 1.0, 'Average Muon Energy over Depth')"
      ]
     },
     "execution_count": 94,
     "metadata": {},
     "output_type": "execute_result"
    },
    {
     "data": {
      "image/png": "[encoded data removed]",
      "text/plain": [
       "<Figure size 432x360 with 1 Axes>"
      ]
     },
     "metadata": {
      "needs_background": "light"
     },
     "output_type": "display_data"
    }
   ],
   "source": [
    "fig, ax = plt.subplots(1,1, figsize=(6,5), tight_layout=True)\n",
    "ax.axvspan(h[z>96.5][0], h[-1], color='grey', alpha=0.3, label='Sample Depth')\n",
    "#ax.plot(h, E_avg_0/E_pred, label='MCEq @ 0 m')\n",
    "#ax.plot(h, E_avg_SDC/E_pred, label='MCEq SDC @ 0 m')\n",
    "#ax.plot(h, E_avg/E_pred, label='MCEq @ 3120 m')\n",
    "ax.set(xlim = (1, h[-1]),\n",
    "       xscale = 'log',\n",
    "       xlabel='Mass Depth [hg/cm^2]',\n",
    "       #ylim = (1,1000),\n",
    "       yscale = 'log',\n",
    "       ylabel='Average Muon Energy [GeV]')\n",
    "ax.legend(loc='upper left', fontsize=7)\n",
    "plt.title('Average Muon Energy over Depth')"
   ]
  },
  {
   "cell_type": "code",
   "execution_count": 25,
   "id": "0edc8478",
   "metadata": {},
   "outputs": [],
   "source": [
    "# Muon indices in MCEq flux matrices\n",
    "# 'mu+_l' : 440-550\n",
    "# 'mu+' : 550-660\n",
    "# 'mu+_r' : 660-770\n",
    "# 'mu-_l' : 770-880\n",
    "# 'mu-' : 880-990\n",
    "# 'mu-_r' : 990-1100\n",
    "#\n",
    "# obtained from mceq.pman.pname2pref[ particle ].lidx (.uidx)"
   ]
  },
  {
   "cell_type": "code",
   "execution_count": 52,
   "id": "387d3a16",
   "metadata": {
    "scrolled": false
   },
   "outputs": [],
   "source": [
    "#mceq = surface_flux(cosTH[0], sol=False)\n",
    "mceq = mceq_surf[0]"
   ]
  },
  {
   "cell_type": "code",
   "execution_count": 83,
   "id": "c7c0f41c",
   "metadata": {},
   "outputs": [
    {
     "data": {
      "text/plain": [
       "2420"
      ]
     },
     "execution_count": 83,
     "metadata": {},
     "output_type": "execute_result"
    }
   ],
   "source": [
    "mceq.pman.pname2pref['K_S0'].uidx"
   ]
  },
  {
   "cell_type": "code",
   "execution_count": 88,
   "id": "a050579d",
   "metadata": {},
   "outputs": [
    {
     "data": {
      "text/plain": [
       "dict_keys(['e+', 'e-', 'antinue', 'nue', 'mu+_l', 'mu+', 'mu+_r', 'mu-_l', 'mu-', 'mu-_r', 'antinumu', 'numu', 'antinutau', 'nutau', 'gamma', 'pi0', 'K_L0', 'pi-', 'pi+', 'K_S0', 'K-', 'K+', 'D-', 'D+', 'Dbar0', 'D0', 'D_s-', 'D_s+', 'nbar0', 'n0', 'pbar-', 'p+', 'Lambdabar0', 'Lambda0'])"
      ]
     },
     "execution_count": 88,
     "metadata": {},
     "output_type": "execute_result"
    }
   ],
   "source": [
    "mceq.pman.pname2pref.keys()"
   ]
  },
  {
   "cell_type": "code",
   "execution_count": 85,
   "id": "e98fed97",
   "metadata": {},
   "outputs": [
    {
     "name": "stdout",
     "output_type": "stream",
     "text": [
      "2404\n"
     ]
    }
   ],
   "source": [
    "print(a[1100])"
   ]
  },
  {
   "cell_type": "code",
   "execution_count": 27,
   "id": "ff7d27d8",
   "metadata": {},
   "outputs": [
    {
     "name": "stdout",
     "output_type": "stream",
     "text": [
      "MCEqRun::_calculate_integration_path(): X_surface =  665.16g/cm2\n"
     ]
    }
   ],
   "source": [
    "mceq._calculate_integration_path(None, 'X')\n",
    "phi0 = np.copy(mceq._phi0)\n",
    "nsteps, dX, rho_inv, grid_idcs = mceq.integration_path\n",
    "int_m = mceq.int_m\n",
    "dec_m = mceq.dec_m"
   ]
  },
  {
   "cell_type": "code",
   "execution_count": 28,
   "id": "500673ee",
   "metadata": {},
   "outputs": [],
   "source": [
    "row, col, val = find(int_m)\n",
    "row1, col1, val1 = find(dec_m)\n",
    "row, col = np.append(row,row1), np.append(col,col1)"
   ]
  },
  {
   "cell_type": "code",
   "execution_count": 29,
   "id": "89f1315b",
   "metadata": {},
   "outputs": [
    {
     "data": {
      "text/plain": [
       "1713"
      ]
     },
     "execution_count": 29,
     "metadata": {},
     "output_type": "execute_result"
    }
   ],
   "source": [
    "# how many columns connect to rows 440-1100?\n",
    "len(np.unique(col[np.in1d(row, np.arange(440,1100)).nonzero()[0]]))"
   ]
  },
  {
   "cell_type": "code",
   "execution_count": 30,
   "id": "076aea66",
   "metadata": {},
   "outputs": [
    {
     "data": {
      "text/plain": [
       "1725"
      ]
     },
     "execution_count": 30,
     "metadata": {},
     "output_type": "execute_result"
    }
   ],
   "source": [
    "# how many columns connect to rows whose columns connect to 440-1100?\n",
    "len(np.unique(col[np.in1d(row, np.unique(col[np.in1d(row, np.arange(440,1100)).nonzero()[0]])).nonzero()[0]]))"
   ]
  },
  {
   "cell_type": "code",
   "execution_count": 31,
   "id": "50667c7a",
   "metadata": {},
   "outputs": [
    {
     "data": {
      "text/plain": [
       "1725"
      ]
     },
     "execution_count": 31,
     "metadata": {},
     "output_type": "execute_result"
    }
   ],
   "source": [
    "# how many columns connect to rows whose columns connect to rows whose columns connect to 440-1100?\n",
    "len(np.unique(col[np.in1d(row, np.unique(col[np.in1d(row, np.unique(col[np.in1d(row, np.arange(440,1100)).nonzero()[0]])).nonzero()[0]])).nonzero()[0]]))"
   ]
  },
  {
   "cell_type": "code",
   "execution_count": 32,
   "id": "6a8537ee",
   "metadata": {},
   "outputs": [
    {
     "name": "stdout",
     "output_type": "stream",
     "text": [
      "[ 440  441  442 ... 2857 2858 2859]\n"
     ]
    }
   ],
   "source": [
    "# indices of all particles involved in the creation and propagation of muons\n",
    "mu_ind = np.unique(col[np.in1d(row, np.unique(col[np.in1d(row, np.unique(col[np.in1d(row, np.arange(440,1100)).nonzero()[0]])).nonzero()[0]])).nonzero()[0]])\n",
    "print(mu_ind)"
   ]
  },
  {
   "cell_type": "code",
   "execution_count": 33,
   "id": "e4171235",
   "metadata": {},
   "outputs": [],
   "source": [
    "int_mu = int_m[mu_ind][:,mu_ind]\n",
    "dec_mu = dec_m[mu_ind][:,mu_ind]\n",
    "phi0_mu = phi0[mu_ind]"
   ]
  },
  {
   "cell_type": "code",
   "execution_count": 34,
   "id": "bc26e35f",
   "metadata": {},
   "outputs": [
    {
     "data": {
      "text/plain": [
       "<1725x1725 sparse matrix of type '<class 'numpy.float64'>'\n",
       "\twith 773493 stored elements in Compressed Sparse Row format>"
      ]
     },
     "execution_count": 34,
     "metadata": {},
     "output_type": "execute_result"
    }
   ],
   "source": [
    "(int_mu + dec_mu*rho_inv[0])*dX[0] + identity(len(mu_ind))"
   ]
  },
  {
   "cell_type": "code",
   "execution_count": 35,
   "id": "6a612f05",
   "metadata": {},
   "outputs": [
    {
     "name": "stderr",
     "output_type": "stream",
     "text": [
      "  6%|████▏                                                                    | 27674/487057 [08:35<2:17:14, 55.79it/s]"
     ]
    },
    {
     "ename": "MemoryError",
     "evalue": "Unable to allocate 2.95 MiB for an array with shape (773709,) and data type int32",
     "output_type": "error",
     "traceback": [
      "\u001b[1;31m---------------------------------------------------------------------------\u001b[0m",
      "\u001b[1;31mMemoryError\u001b[0m                               Traceback (most recent call last)",
      "\u001b[1;32m~\\AppData\\Local\\Temp/ipykernel_11816/1407086865.py\u001b[0m in \u001b[0;36m<module>\u001b[1;34m\u001b[0m\n\u001b[1;32m----> 1\u001b[1;33m \u001b[0mMatrices\u001b[0m \u001b[1;33m=\u001b[0m \u001b[1;33m[\u001b[0m\u001b[1;33m(\u001b[0m\u001b[0mint_mu\u001b[0m \u001b[1;33m+\u001b[0m \u001b[0mdec_mu\u001b[0m\u001b[1;33m*\u001b[0m\u001b[0mrho_inv\u001b[0m\u001b[1;33m[\u001b[0m\u001b[0mi\u001b[0m\u001b[1;33m]\u001b[0m\u001b[1;33m)\u001b[0m\u001b[1;33m*\u001b[0m\u001b[0mdX\u001b[0m\u001b[1;33m[\u001b[0m\u001b[0mi\u001b[0m\u001b[1;33m]\u001b[0m \u001b[1;33m+\u001b[0m \u001b[0midentity\u001b[0m\u001b[1;33m(\u001b[0m\u001b[0mlen\u001b[0m\u001b[1;33m(\u001b[0m\u001b[0mmu_ind\u001b[0m\u001b[1;33m)\u001b[0m\u001b[1;33m)\u001b[0m \u001b[1;32mfor\u001b[0m \u001b[0mi\u001b[0m \u001b[1;32min\u001b[0m \u001b[0mtqdm\u001b[0m\u001b[1;33m(\u001b[0m\u001b[0mrange\u001b[0m\u001b[1;33m(\u001b[0m\u001b[0mnsteps\u001b[0m\u001b[1;33m)\u001b[0m\u001b[1;33m)\u001b[0m\u001b[1;33m]\u001b[0m\u001b[1;33m\u001b[0m\u001b[1;33m\u001b[0m\u001b[0m\n\u001b[0m",
      "\u001b[1;32m~\\AppData\\Local\\Temp/ipykernel_11816/1407086865.py\u001b[0m in \u001b[0;36m<listcomp>\u001b[1;34m(.0)\u001b[0m\n\u001b[1;32m----> 1\u001b[1;33m \u001b[0mMatrices\u001b[0m \u001b[1;33m=\u001b[0m \u001b[1;33m[\u001b[0m\u001b[1;33m(\u001b[0m\u001b[0mint_mu\u001b[0m \u001b[1;33m+\u001b[0m \u001b[0mdec_mu\u001b[0m\u001b[1;33m*\u001b[0m\u001b[0mrho_inv\u001b[0m\u001b[1;33m[\u001b[0m\u001b[0mi\u001b[0m\u001b[1;33m]\u001b[0m\u001b[1;33m)\u001b[0m\u001b[1;33m*\u001b[0m\u001b[0mdX\u001b[0m\u001b[1;33m[\u001b[0m\u001b[0mi\u001b[0m\u001b[1;33m]\u001b[0m \u001b[1;33m+\u001b[0m \u001b[0midentity\u001b[0m\u001b[1;33m(\u001b[0m\u001b[0mlen\u001b[0m\u001b[1;33m(\u001b[0m\u001b[0mmu_ind\u001b[0m\u001b[1;33m)\u001b[0m\u001b[1;33m)\u001b[0m \u001b[1;32mfor\u001b[0m \u001b[0mi\u001b[0m \u001b[1;32min\u001b[0m \u001b[0mtqdm\u001b[0m\u001b[1;33m(\u001b[0m\u001b[0mrange\u001b[0m\u001b[1;33m(\u001b[0m\u001b[0mnsteps\u001b[0m\u001b[1;33m)\u001b[0m\u001b[1;33m)\u001b[0m\u001b[1;33m]\u001b[0m\u001b[1;33m\u001b[0m\u001b[1;33m\u001b[0m\u001b[0m\n\u001b[0m",
      "\u001b[1;32m~\\anaconda3\\lib\\site-packages\\scipy\\sparse\\base.py\u001b[0m in \u001b[0;36m__mul__\u001b[1;34m(self, other)\u001b[0m\n\u001b[0;32m    473\u001b[0m         \u001b[1;32mif\u001b[0m \u001b[0misscalarlike\u001b[0m\u001b[1;33m(\u001b[0m\u001b[0mother\u001b[0m\u001b[1;33m)\u001b[0m\u001b[1;33m:\u001b[0m\u001b[1;33m\u001b[0m\u001b[1;33m\u001b[0m\u001b[0m\n\u001b[0;32m    474\u001b[0m             \u001b[1;31m# scalar value\u001b[0m\u001b[1;33m\u001b[0m\u001b[1;33m\u001b[0m\u001b[0m\n\u001b[1;32m--> 475\u001b[1;33m             \u001b[1;32mreturn\u001b[0m \u001b[0mself\u001b[0m\u001b[1;33m.\u001b[0m\u001b[0m_mul_scalar\u001b[0m\u001b[1;33m(\u001b[0m\u001b[0mother\u001b[0m\u001b[1;33m)\u001b[0m\u001b[1;33m\u001b[0m\u001b[1;33m\u001b[0m\u001b[0m\n\u001b[0m\u001b[0;32m    476\u001b[0m \u001b[1;33m\u001b[0m\u001b[0m\n\u001b[0;32m    477\u001b[0m         \u001b[1;32mif\u001b[0m \u001b[0missparse\u001b[0m\u001b[1;33m(\u001b[0m\u001b[0mother\u001b[0m\u001b[1;33m)\u001b[0m\u001b[1;33m:\u001b[0m\u001b[1;33m\u001b[0m\u001b[1;33m\u001b[0m\u001b[0m\n",
      "\u001b[1;32m~\\anaconda3\\lib\\site-packages\\scipy\\sparse\\data.py\u001b[0m in \u001b[0;36m_mul_scalar\u001b[1;34m(self, other)\u001b[0m\n\u001b[0;32m    122\u001b[0m \u001b[1;33m\u001b[0m\u001b[0m\n\u001b[0;32m    123\u001b[0m     \u001b[1;32mdef\u001b[0m \u001b[0m_mul_scalar\u001b[0m\u001b[1;33m(\u001b[0m\u001b[0mself\u001b[0m\u001b[1;33m,\u001b[0m \u001b[0mother\u001b[0m\u001b[1;33m)\u001b[0m\u001b[1;33m:\u001b[0m\u001b[1;33m\u001b[0m\u001b[1;33m\u001b[0m\u001b[0m\n\u001b[1;32m--> 124\u001b[1;33m         \u001b[1;32mreturn\u001b[0m \u001b[0mself\u001b[0m\u001b[1;33m.\u001b[0m\u001b[0m_with_data\u001b[0m\u001b[1;33m(\u001b[0m\u001b[0mself\u001b[0m\u001b[1;33m.\u001b[0m\u001b[0mdata\u001b[0m \u001b[1;33m*\u001b[0m \u001b[0mother\u001b[0m\u001b[1;33m)\u001b[0m\u001b[1;33m\u001b[0m\u001b[1;33m\u001b[0m\u001b[0m\n\u001b[0m\u001b[0;32m    125\u001b[0m \u001b[1;33m\u001b[0m\u001b[0m\n\u001b[0;32m    126\u001b[0m \u001b[1;33m\u001b[0m\u001b[0m\n",
      "\u001b[1;32m~\\anaconda3\\lib\\site-packages\\scipy\\sparse\\compressed.py\u001b[0m in \u001b[0;36m_with_data\u001b[1;34m(self, data, copy)\u001b[0m\n\u001b[0;32m   1208\u001b[0m         \"\"\"\n\u001b[0;32m   1209\u001b[0m         \u001b[1;32mif\u001b[0m \u001b[0mcopy\u001b[0m\u001b[1;33m:\u001b[0m\u001b[1;33m\u001b[0m\u001b[1;33m\u001b[0m\u001b[0m\n\u001b[1;32m-> 1210\u001b[1;33m             return self.__class__((data, self.indices.copy(),\n\u001b[0m\u001b[0;32m   1211\u001b[0m                                    self.indptr.copy()),\n\u001b[0;32m   1212\u001b[0m                                   \u001b[0mshape\u001b[0m\u001b[1;33m=\u001b[0m\u001b[0mself\u001b[0m\u001b[1;33m.\u001b[0m\u001b[0mshape\u001b[0m\u001b[1;33m,\u001b[0m\u001b[1;33m\u001b[0m\u001b[1;33m\u001b[0m\u001b[0m\n",
      "\u001b[1;31mMemoryError\u001b[0m: Unable to allocate 2.95 MiB for an array with shape (773709,) and data type int32"
     ]
    }
   ],
   "source": [
    "#Matrices = [(int_mu + dec_mu*rho_inv[i])*dX[i] + identity(len(mu_ind)) for i in tqdm(range(nsteps))]"
   ]
  },
  {
   "cell_type": "code",
   "execution_count": null,
   "id": "125ea896",
   "metadata": {},
   "outputs": [],
   "source": [
    "#M = identity(len(mu_ind))\n",
    "#for i in tqdm(range(nsteps)):\n",
    "    #M = ((int_mu + dec_mu*rho_inv[i])*dX[i] + identity(len(mu_ind))) @ M"
   ]
  },
  {
   "cell_type": "code",
   "execution_count": null,
   "id": "2c0a8bbe",
   "metadata": {},
   "outputs": [],
   "source": []
  },
  {
   "cell_type": "code",
   "execution_count": null,
   "id": "6aecbe1f",
   "metadata": {},
   "outputs": [],
   "source": []
  }
 ],
 "metadata": {
  "kernelspec": {
   "display_name": "Python 3 (ipykernel)",
   "language": "python",
   "name": "python3"
  },
  "language_info": {
   "codemirror_mode": {
    "name": "ipython",
    "version": 3
   },
   "file_extension": ".py",
   "mimetype": "text/x-python",
   "name": "python",
   "nbconvert_exporter": "python",
   "pygments_lexer": "ipython3",
   "version": "3.9.7"
  }
 },
 "nbformat": 4,
 "nbformat_minor": 5
}
