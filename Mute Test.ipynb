{
 "cells": [
  {
   "cell_type": "code",
   "execution_count": 51,
   "id": "06ca188f",
   "metadata": {},
   "outputs": [],
   "source": [
    "import mute.constants as mtc\n",
    "import mute.surface as mts\n",
    "import mute.propagation as mtp\n",
    "import mute.underground as mtu\n",
    "\n",
    "import numpy as np\n",
    "import matplotlib.pyplot as plt\n",
    "import inspect"
   ]
  },
  {
   "cell_type": "code",
   "execution_count": 5,
   "id": "054894ef",
   "metadata": {},
   "outputs": [
    {
     "name": "stdout",
     "output_type": "stream",
     "text": [
      "Calculating underground fluxes.\n",
      "Loading surface fluxes for USStd using GSF and DDM.\n",
      "Loaded surface fluxes.\n",
      "Loading survival probabilities from C:\\Users\\walte\\anaconda3\\lib\\site-packages\\mute\\data\\survival_probabilities\\rock_2.65_100000_Survival_Probabilities.txt.\n",
      "Loaded survival probabilities.\n",
      "Finished calculating underground fluxes.\n",
      "Calculating true vertical underground intensities.\n",
      "Finished calculating true vertical underground intensities.\n",
      "True vertical underground intensities written to C:\\Users\\walte\\anaconda3\\lib\\site-packages\\mute\\data\\underground\\Default_Underground_Intensities_tr.txt.\n",
      "Calculating underground fluxes.\n",
      "Loading surface fluxes for USStd using GSF and SIBYLL-2.3d.\n",
      "Loaded surface fluxes.\n",
      "Survival probabilities already loaded for rock with density 2.65 gcm^-3 and 100000 muons.\n",
      "Finished calculating underground fluxes.\n",
      "Calculating true vertical underground intensities.\n",
      "Finished calculating true vertical underground intensities.\n",
      "True vertical underground intensities written to C:\\Users\\walte\\anaconda3\\lib\\site-packages\\mute\\data\\underground\\Default_Underground_Intensities_tr.txt.\n"
     ]
    },
    {
     "data": {
      "image/png": "[encoded data removed]",
      "text/plain": [
       "<Figure size 432x288 with 1 Axes>"
      ]
     },
     "metadata": {},
     "output_type": "display_data"
    }
   ],
   "source": [
    "mtc.set_overburden(\"flat\")\n",
    "mtc.set_medium(\"rock\")\n",
    "mtc.set_density(2.65)\n",
    "\n",
    "# Calculate true vertical intensities for the default slant depths and atmosphere\n",
    "\n",
    "intensities_DDM = mtu.calc_u_intensities(method = \"tr\", interaction_model = \"DDM\")\n",
    "intensities_SIBYLL = mtu.calc_u_intensities(method = \"tr\", interaction_model = \"SIBYLL-2.3d\")\n",
    "\n",
    "# Plot the results\n",
    "\n",
    "plt.figure(facecolor = \"white\")\n",
    "plt.semilogy(mtc.slant_depths, intensities_DDM, color = \"blue\", label = \"DDM\")\n",
    "plt.semilogy(mtc.slant_depths, intensities_SIBYLL, color = \"magenta\", label = \"SIBYLL-2.3d\")\n",
    "plt.legend()\n",
    "plt.show()"
   ]
  },
  {
   "cell_type": "code",
   "execution_count": 67,
   "id": "0e6f5b57",
   "metadata": {},
   "outputs": [
    {
     "ename": "Exception",
     "evalue": "The minimum default available slant depth is 0.5 km.w.e. Set constants.shallow_extrapolation to True to enable calculations for depths lower than 0.5 km.w.e. (not recommended).",
     "output_type": "error",
     "traceback": [
      "\u001b[1;31m---------------------------------------------------------------------------\u001b[0m",
      "\u001b[1;31mException\u001b[0m                                 Traceback (most recent call last)",
      "\u001b[1;32m~\\AppData\\Local\\Temp/ipykernel_11020/1131630023.py\u001b[0m in \u001b[0;36m<module>\u001b[1;34m\u001b[0m\n\u001b[1;32m----> 1\u001b[1;33m \u001b[0mmtc\u001b[0m\u001b[1;33m.\u001b[0m\u001b[0mset_vertical_depth\u001b[0m\u001b[1;33m(\u001b[0m\u001b[1;36m0.1\u001b[0m\u001b[1;33m)\u001b[0m \u001b[1;31m# km.w.e. (water-equivalent kilometers, aka 1e4 g/cm^2)\u001b[0m\u001b[1;33m\u001b[0m\u001b[1;33m\u001b[0m\u001b[0m\n\u001b[0m",
      "\u001b[1;32m~\\anaconda3\\lib\\site-packages\\mute\\constants.py\u001b[0m in \u001b[0;36mset_vertical_depth\u001b[1;34m(vertical_depth)\u001b[0m\n\u001b[0;32m    248\u001b[0m     \u001b[1;32mif\u001b[0m \u001b[0mvertical_depth\u001b[0m \u001b[1;33m<\u001b[0m \u001b[0m_SLANT_DEPTHS\u001b[0m\u001b[1;33m[\u001b[0m\u001b[1;36m0\u001b[0m\u001b[1;33m]\u001b[0m \u001b[1;32mand\u001b[0m \u001b[1;32mnot\u001b[0m \u001b[0mshallow_extrapolation\u001b[0m\u001b[1;33m:\u001b[0m\u001b[1;33m\u001b[0m\u001b[1;33m\u001b[0m\u001b[0m\n\u001b[0;32m    249\u001b[0m \u001b[1;33m\u001b[0m\u001b[0m\n\u001b[1;32m--> 250\u001b[1;33m         raise Exception(\n\u001b[0m\u001b[0;32m    251\u001b[0m             \u001b[1;34m\"The minimum default available slant depth is 0.5 km.w.e. Set constants.shallow_extrapolation to True to enable calculations for depths lower than 0.5 km.w.e. (not recommended).\"\u001b[0m\u001b[1;33m\u001b[0m\u001b[1;33m\u001b[0m\u001b[0m\n\u001b[0;32m    252\u001b[0m         )\n",
      "\u001b[1;31mException\u001b[0m: The minimum default available slant depth is 0.5 km.w.e. Set constants.shallow_extrapolation to True to enable calculations for depths lower than 0.5 km.w.e. (not recommended)."
     ]
    }
   ],
   "source": [
    "mtc.set_vertical_depth(0.1) # km.w.e. (water-equivalent kilometers, aka 1e4 g/cm^2)"
   ]
  },
  {
   "cell_type": "code",
   "execution_count": 64,
   "id": "20a93165",
   "metadata": {},
   "outputs": [
    {
     "name": "stdout",
     "output_type": "stream",
     "text": [
      "Calculating underground fluxes.\n",
      "Loading surface fluxes for USStd using GSF and SIBYLL-2.3c.\n",
      "Loaded surface fluxes.\n",
      "Survival probabilities already loaded for rock with density 2.65 gcm^-3 and 100000 muons.\n",
      "Finished calculating underground fluxes.\n",
      "Calculating underground intensities.\n",
      "Finished calculating underground intensities.\n",
      "Underground intensities written to C:\\Users\\walte\\anaconda3\\lib\\site-packages\\mute\\data\\underground\\Default_Underground_Intensities_sd.txt.\n"
     ]
    },
    {
     "data": {
      "text/plain": [
       "1.6638650878513475e-06"
      ]
     },
     "execution_count": 64,
     "metadata": {},
     "output_type": "execute_result"
    }
   ],
   "source": [
    "mtu.calc_u_tot_flux()"
   ]
  },
  {
   "cell_type": "code",
   "execution_count": 58,
   "id": "d74b1210",
   "metadata": {},
   "outputs": [
    {
     "name": "stdout",
     "output_type": "stream",
     "text": [
      "Calculating underground fluxes.\n",
      "Loading surface fluxes for USStd using GSF and SIBYLL-2.3c.\n",
      "Loaded surface fluxes.\n",
      "Survival probabilities already loaded for rock with density 2.65 gcm^-3 and 100000 muons.\n",
      "Finished calculating underground fluxes.\n",
      "Underground fluxes written to C:\\Users\\walte\\anaconda3\\lib\\site-packages\\mute\\data\\underground\\Default_Underground_Fluxes.txt.\n"
     ]
    }
   ],
   "source": [
    "#axis0: underground energy (MeV)\n",
    "#axis1: zenith angle (degrees)\n",
    "u_fluxes = mtu.calc_u_fluxes()\n",
    "\n",
    "cosTH = np.cos(mtc.angles*np.pi/180)\n",
    "dcosTH = -np.diff(cosTH)\n",
    "dcosTH = np.append(dcosTH, cosTH[-1])\n",
    "\n",
    "u_flux_tot = 2*np.pi*np.sum(u_fluxes * dcosTH, axis=1)"
   ]
  },
  {
   "cell_type": "code",
   "execution_count": 60,
   "id": "95744d37",
   "metadata": {},
   "outputs": [
    {
     "data": {
      "text/plain": [
       "array([0.00000000e+00, 1.76986246e-10, 4.35444465e-10, 6.82858220e-10,\n",
       "       7.23469072e-10, 8.05573253e-10, 8.01305617e-10, 7.85031659e-10,\n",
       "       7.55113447e-10, 6.76579269e-10, 6.63287352e-10, 6.44642120e-10,\n",
       "       5.57514343e-10, 5.04074050e-10, 4.32016222e-10, 3.56958640e-10,\n",
       "       2.66974113e-10, 2.12859426e-10, 1.77663085e-10, 1.81788048e-10,\n",
       "       2.05381850e-10, 2.34688104e-10, 2.83565684e-10, 3.38525207e-10,\n",
       "       3.54129205e-10, 1.92517099e-10, 8.52618170e-11, 1.31168048e-10,\n",
       "       1.50114727e-10, 4.51544673e-11, 7.69361078e-11, 2.89465179e-11,\n",
       "       3.62007446e-11, 1.16264921e-11, 1.26209619e-11, 7.46885275e-12,\n",
       "       3.15021749e-12, 1.87227399e-12, 1.20151735e-12, 6.49904191e-13,\n",
       "       3.14645008e-13, 1.47793861e-13, 6.88529830e-14, 3.18326691e-14,\n",
       "       1.46118305e-14, 6.73960729e-15, 3.08086109e-15, 1.39458573e-15,\n",
       "       6.27613245e-16, 2.77415451e-16, 1.22746051e-16, 5.35361491e-17,\n",
       "       2.32774577e-17, 1.00903994e-17, 4.32635282e-18, 1.86898594e-18,\n",
       "       7.97286672e-19, 3.40029963e-19, 1.44686938e-19, 6.14292563e-20,\n",
       "       2.60417665e-20, 1.09996591e-20, 4.62795553e-21, 1.95005102e-21,\n",
       "       8.17899953e-22, 3.44850273e-22, 1.45780304e-22, 6.12679815e-23,\n",
       "       2.60619622e-23, 1.11127607e-23, 4.80135017e-24, 2.07843336e-24,\n",
       "       9.17476016e-25, 4.10455591e-25, 1.86294774e-25, 8.58500921e-26,\n",
       "       4.02385059e-26, 1.90736544e-26, 9.08783638e-27, 4.35698748e-27,\n",
       "       2.09750184e-27, 1.01261438e-27, 4.89491393e-28, 2.38309705e-28,\n",
       "       1.15033291e-28, 5.54362732e-29, 2.67149167e-29, 1.27194428e-29,\n",
       "       5.91787446e-30, 2.50144639e-30, 5.17805534e-31])"
      ]
     },
     "execution_count": 60,
     "metadata": {},
     "output_type": "execute_result"
    }
   ],
   "source": [
    "u_flux_tot"
   ]
  },
  {
   "cell_type": "code",
   "execution_count": null,
   "id": "2d0749db",
   "metadata": {},
   "outputs": [],
   "source": []
  }
 ],
 "metadata": {
  "kernelspec": {
   "display_name": "Python 3 (ipykernel)",
   "language": "python",
   "name": "python3"
  },
  "language_info": {
   "codemirror_mode": {
    "name": "ipython",
    "version": 3
   },
   "file_extension": ".py",
   "mimetype": "text/x-python",
   "name": "python",
   "nbconvert_exporter": "python",
   "pygments_lexer": "ipython3",
   "version": "3.9.7"
  }
 },
 "nbformat": 4,
 "nbformat_minor": 5
}
